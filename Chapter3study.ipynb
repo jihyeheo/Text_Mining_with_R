{
 "cells": [
  {
   "cell_type": "markdown",
   "metadata": {},
   "source": [
    "오늘은 단어와 문서의 빈도를 분석하는 tf-idf에 대한 내용입니다.\n",
    "\n",
    "**참고 : TEXT MINING with R**\n",
    "\n",
    "\n",
    "1장 : https://dacon.io/codeshare/4670 <br>\n",
    "2장 : https://dacon.io/codeshare/4702 <br>\n",
    "\n",
    "\n",
    "### Chapter3. 단어와 문서의 빈도 분석 : tf-idf"
   ]
  },
  {
   "cell_type": "markdown",
   "metadata": {},
   "source": [
    "- 텍스트 마이닝 및 자연어 처리의 핵심은 문서의 내용을 **수량화**하는 것입니다.\n",
    "- 밑은 단어가 중요한지 나타내는 척도입니다.\n",
    "\n",
    "#### 1. 단어의 빈도(term frequency)\n",
    "- 단어가 얼마나 자주 발생하는지를 나타내는 척도입니다.\n",
    "\n",
    "#### 2. 역 문서 빈도(inverse document frequency)\n",
    "- 일반적으로 사용되는 단어에 대한 가중치를 줄입니다.\n",
    "- 많이 사용되지 않는 단어에 대한 가중치를 증가시킵니다.\n",
    "\n",
    "#### 3. tf-idf\n",
    "- term frequency과 역 문서 빈도를 곱하여 계산합니다.\n",
    "- 깔끔한 데이터 원칙(1,2장 참고)을 사용해 tf-idf 분석에 접근하고 일관되고 효과적인 도구를 통해 정량화가 가능합니다."
   ]
  },
  {
   "cell_type": "markdown",
   "metadata": {},
   "source": [
    "### 3.1 Term frequency in Jane Austen's novels"
   ]
  },
  {
   "cell_type": "markdown",
   "metadata": {},
   "source": [
    "필요한 패키지 다운 및 실행"
   ]
  },
  {
   "cell_type": "code",
   "execution_count": 1,
   "metadata": {},
   "outputs": [
    {
     "name": "stderr",
     "output_type": "stream",
     "text": [
      "Warning message:\n",
      "\"package 'dplyr' was built under R version 3.6.3\"\n",
      "Attaching package: 'dplyr'\n",
      "\n",
      "The following objects are masked from 'package:stats':\n",
      "\n",
      "    filter, lag\n",
      "\n",
      "The following objects are masked from 'package:base':\n",
      "\n",
      "    intersect, setdiff, setequal, union\n",
      "\n",
      "Warning message:\n",
      "\"package 'janeaustenr' was built under R version 3.6.3\""
     ]
    }
   ],
   "source": [
    "library(dplyr)\n",
    "library(janeaustenr)\n",
    "library(tidytext)"
   ]
  },
  {
   "cell_type": "markdown",
   "metadata": {},
   "source": [
    "토큰화 및 개수 세기"
   ]
  },
  {
   "cell_type": "code",
   "execution_count": 2,
   "metadata": {},
   "outputs": [],
   "source": [
    "book_words <- austen_books() %>%\n",
    "  unnest_tokens(word, text) %>%\n",
    "  count(book, word, sort = TRUE)"
   ]
  },
  {
   "cell_type": "code",
   "execution_count": 3,
   "metadata": {},
   "outputs": [
    {
     "name": "stderr",
     "output_type": "stream",
     "text": [
      "Selecting by n\n"
     ]
    },
    {
     "data": {
      "text/html": [
       "<table>\n",
       "<thead><tr><th scope=col>book</th><th scope=col>word</th><th scope=col>n</th></tr></thead>\n",
       "<tbody>\n",
       "\t<tr><td>Mansfield Park   </td><td>the              </td><td>6206             </td></tr>\n",
       "\t<tr><td>Mansfield Park   </td><td>to               </td><td>5475             </td></tr>\n",
       "\t<tr><td>Mansfield Park   </td><td>and              </td><td>5438             </td></tr>\n",
       "\t<tr><td>Emma             </td><td>to               </td><td>5239             </td></tr>\n",
       "\t<tr><td>Emma             </td><td>the              </td><td>5201             </td></tr>\n",
       "\t<tr><td>Emma             </td><td>and              </td><td>4896             </td></tr>\n",
       "\t<tr><td>Mansfield Park   </td><td>of               </td><td>4778             </td></tr>\n",
       "\t<tr><td>Pride &amp; Prejudice</td><td>the                  </td><td>4331                 </td></tr>\n",
       "\t<tr><td>Emma             </td><td>of               </td><td>4291             </td></tr>\n",
       "\t<tr><td>Pride &amp; Prejudice</td><td>to                   </td><td>4162                 </td></tr>\n",
       "</tbody>\n",
       "</table>\n"
      ],
      "text/latex": [
       "\\begin{tabular}{r|lll}\n",
       " book & word & n\\\\\n",
       "\\hline\n",
       "\t Mansfield Park    & the               & 6206             \\\\\n",
       "\t Mansfield Park    & to                & 5475             \\\\\n",
       "\t Mansfield Park    & and               & 5438             \\\\\n",
       "\t Emma              & to                & 5239             \\\\\n",
       "\t Emma              & the               & 5201             \\\\\n",
       "\t Emma              & and               & 4896             \\\\\n",
       "\t Mansfield Park    & of                & 4778             \\\\\n",
       "\t Pride \\& Prejudice & the                 & 4331               \\\\\n",
       "\t Emma              & of                & 4291             \\\\\n",
       "\t Pride \\& Prejudice & to                  & 4162               \\\\\n",
       "\\end{tabular}\n"
      ],
      "text/markdown": [
       "\n",
       "| book | word | n |\n",
       "|---|---|---|\n",
       "| Mansfield Park    | the               | 6206              |\n",
       "| Mansfield Park    | to                | 5475              |\n",
       "| Mansfield Park    | and               | 5438              |\n",
       "| Emma              | to                | 5239              |\n",
       "| Emma              | the               | 5201              |\n",
       "| Emma              | and               | 4896              |\n",
       "| Mansfield Park    | of                | 4778              |\n",
       "| Pride & Prejudice | the               | 4331              |\n",
       "| Emma              | of                | 4291              |\n",
       "| Pride & Prejudice | to                | 4162              |\n",
       "\n"
      ],
      "text/plain": [
       "   book              word n   \n",
       "1  Mansfield Park    the  6206\n",
       "2  Mansfield Park    to   5475\n",
       "3  Mansfield Park    and  5438\n",
       "4  Emma              to   5239\n",
       "5  Emma              the  5201\n",
       "6  Emma              and  4896\n",
       "7  Mansfield Park    of   4778\n",
       "8  Pride & Prejudice the  4331\n",
       "9  Emma              of   4291\n",
       "10 Pride & Prejudice to   4162"
      ]
     },
     "metadata": {},
     "output_type": "display_data"
    }
   ],
   "source": [
    "book_words %>% top_n(10)"
   ]
  },
  {
   "cell_type": "markdown",
   "metadata": {},
   "source": [
    "책 별로 전체 n개 구하기"
   ]
  },
  {
   "cell_type": "code",
   "execution_count": 4,
   "metadata": {},
   "outputs": [],
   "source": [
    "total_words <- book_words %>% \n",
    "  group_by(book) %>% \n",
    "  summarize(total = sum(n))"
   ]
  },
  {
   "cell_type": "code",
   "execution_count": 5,
   "metadata": {},
   "outputs": [
    {
     "data": {
      "text/html": [
       "<table>\n",
       "<thead><tr><th scope=col>book</th><th scope=col>total</th></tr></thead>\n",
       "<tbody>\n",
       "\t<tr><td>Sense &amp; Sensibility</td><td>119957                 </td></tr>\n",
       "\t<tr><td><span style=white-space:pre-wrap>Pride &amp; Prejudice  </span></td><td>122204                                                         </td></tr>\n",
       "\t<tr><td>Mansfield Park     </td><td>160460             </td></tr>\n",
       "\t<tr><td>Emma               </td><td>160996             </td></tr>\n",
       "\t<tr><td>Northanger Abbey   </td><td> 77780             </td></tr>\n",
       "\t<tr><td>Persuasion         </td><td> 83658             </td></tr>\n",
       "</tbody>\n",
       "</table>\n"
      ],
      "text/latex": [
       "\\begin{tabular}{r|ll}\n",
       " book & total\\\\\n",
       "\\hline\n",
       "\t Sense \\& Sensibility & 119957               \\\\\n",
       "\t Pride \\& Prejudice   & 122204               \\\\\n",
       "\t Mansfield Park      & 160460             \\\\\n",
       "\t Emma                & 160996             \\\\\n",
       "\t Northanger Abbey    &  77780             \\\\\n",
       "\t Persuasion          &  83658             \\\\\n",
       "\\end{tabular}\n"
      ],
      "text/markdown": [
       "\n",
       "| book | total |\n",
       "|---|---|\n",
       "| Sense & Sensibility | 119957              |\n",
       "| Pride & Prejudice   | 122204              |\n",
       "| Mansfield Park      | 160460              |\n",
       "| Emma                | 160996              |\n",
       "| Northanger Abbey    |  77780              |\n",
       "| Persuasion          |  83658              |\n",
       "\n"
      ],
      "text/plain": [
       "  book                total \n",
       "1 Sense & Sensibility 119957\n",
       "2 Pride & Prejudice   122204\n",
       "3 Mansfield Park      160460\n",
       "4 Emma                160996\n",
       "5 Northanger Abbey     77780\n",
       "6 Persuasion           83658"
      ]
     },
     "metadata": {},
     "output_type": "display_data"
    }
   ],
   "source": [
    "total_words"
   ]
  },
  {
   "cell_type": "code",
   "execution_count": 6,
   "metadata": {},
   "outputs": [
    {
     "name": "stderr",
     "output_type": "stream",
     "text": [
      "Joining, by = \"book\"\n"
     ]
    },
    {
     "data": {
      "text/html": [
       "<table>\n",
       "<thead><tr><th scope=col>book</th><th scope=col>word</th><th scope=col>n</th><th scope=col>total</th></tr></thead>\n",
       "<tbody>\n",
       "\t<tr><td>Mansfield Park   </td><td>the              </td><td>6206             </td><td>160460           </td></tr>\n",
       "\t<tr><td>Mansfield Park   </td><td>to               </td><td>5475             </td><td>160460           </td></tr>\n",
       "\t<tr><td>Mansfield Park   </td><td>and              </td><td>5438             </td><td>160460           </td></tr>\n",
       "\t<tr><td>Emma             </td><td>to               </td><td>5239             </td><td>160996           </td></tr>\n",
       "\t<tr><td>Emma             </td><td>the              </td><td>5201             </td><td>160996           </td></tr>\n",
       "\t<tr><td>Emma             </td><td>and              </td><td>4896             </td><td>160996           </td></tr>\n",
       "\t<tr><td>Mansfield Park   </td><td>of               </td><td>4778             </td><td>160460           </td></tr>\n",
       "\t<tr><td>Pride &amp; Prejudice</td><td>the                  </td><td>4331                 </td><td>122204               </td></tr>\n",
       "\t<tr><td>Emma             </td><td>of               </td><td>4291             </td><td>160996           </td></tr>\n",
       "\t<tr><td>Pride &amp; Prejudice</td><td>to                   </td><td>4162                 </td><td>122204               </td></tr>\n",
       "</tbody>\n",
       "</table>\n"
      ],
      "text/latex": [
       "\\begin{tabular}{r|llll}\n",
       " book & word & n & total\\\\\n",
       "\\hline\n",
       "\t Mansfield Park    & the               & 6206              & 160460           \\\\\n",
       "\t Mansfield Park    & to                & 5475              & 160460           \\\\\n",
       "\t Mansfield Park    & and               & 5438              & 160460           \\\\\n",
       "\t Emma              & to                & 5239              & 160996           \\\\\n",
       "\t Emma              & the               & 5201              & 160996           \\\\\n",
       "\t Emma              & and               & 4896              & 160996           \\\\\n",
       "\t Mansfield Park    & of                & 4778              & 160460           \\\\\n",
       "\t Pride \\& Prejudice & the                 & 4331                & 122204             \\\\\n",
       "\t Emma              & of                & 4291              & 160996           \\\\\n",
       "\t Pride \\& Prejudice & to                  & 4162                & 122204             \\\\\n",
       "\\end{tabular}\n"
      ],
      "text/markdown": [
       "\n",
       "| book | word | n | total |\n",
       "|---|---|---|---|\n",
       "| Mansfield Park    | the               | 6206              | 160460            |\n",
       "| Mansfield Park    | to                | 5475              | 160460            |\n",
       "| Mansfield Park    | and               | 5438              | 160460            |\n",
       "| Emma              | to                | 5239              | 160996            |\n",
       "| Emma              | the               | 5201              | 160996            |\n",
       "| Emma              | and               | 4896              | 160996            |\n",
       "| Mansfield Park    | of                | 4778              | 160460            |\n",
       "| Pride & Prejudice | the               | 4331              | 122204            |\n",
       "| Emma              | of                | 4291              | 160996            |\n",
       "| Pride & Prejudice | to                | 4162              | 122204            |\n",
       "\n"
      ],
      "text/plain": [
       "   book              word n    total \n",
       "1  Mansfield Park    the  6206 160460\n",
       "2  Mansfield Park    to   5475 160460\n",
       "3  Mansfield Park    and  5438 160460\n",
       "4  Emma              to   5239 160996\n",
       "5  Emma              the  5201 160996\n",
       "6  Emma              and  4896 160996\n",
       "7  Mansfield Park    of   4778 160460\n",
       "8  Pride & Prejudice the  4331 122204\n",
       "9  Emma              of   4291 160996\n",
       "10 Pride & Prejudice to   4162 122204"
      ]
     },
     "metadata": {},
     "output_type": "display_data"
    }
   ],
   "source": [
    "book_words <- left_join(book_words, total_words)\n",
    "\n",
    "head(book_words, n=10)"
   ]
  },
  {
   "cell_type": "markdown",
   "metadata": {},
   "source": [
    "시각화\n",
    "\n",
    "\n",
    "- n : 해당 책에서 해당 단어가 사용된 횟수\n",
    "- total : 해당 책의 총 단어\n",
    "- 각 소설에 대한 n/total의 분포를 살펴보겠습니다. (n/total = 단어 빈도)"
   ]
  },
  {
   "cell_type": "code",
   "execution_count": 7,
   "metadata": {},
   "outputs": [
    {
     "name": "stderr",
     "output_type": "stream",
     "text": [
      "`stat_bin()` using `bins = 30`. Pick better value with `binwidth`.\n",
      "Warning message:\n",
      "\"Removed 896 rows containing non-finite values (stat_bin).\"Warning message:\n",
      "\"Removed 6 rows containing missing values (geom_bar).\""
     ]
    },
    {
     "data": {
      "image/png": "[encoded data removed]",
      "text/plain": [
       "plot without title"
      ]
     },
     "metadata": {},
     "output_type": "display_data"
    }
   ],
   "source": [
    "library(ggplot2)\n",
    "\n",
    "ggplot(book_words, aes(n/total, fill = book)) +\n",
    "  geom_histogram(show.legend = FALSE) +\n",
    "  xlim(NA, 0.0009) +\n",
    "  facet_wrap(~book, ncol = 2, scales = \"free_y\")"
   ]
  },
  {
   "cell_type": "markdown",
   "metadata": {},
   "source": [
    "- geom_histogram : 히스토그램 그리기\n",
    "- xlim(NA, 0.0009) : x 좌표축 값의 범위, NA = 0.0009, 최댓값이 0.0009라는 의미입니다.\n",
    "- 모든 소설이 오른쪽 꼬리가 긴 그래프로 형성이 됩니다.\n",
    "- 긴 꼬리 분포는 자연어 모음에서 매우 일반적입니다."
   ]
  },
  {
   "cell_type": "markdown",
   "metadata": {},
   "source": [
    "### 3.2 Zipf's law\n",
    "\n",
    "- 앞서 시각화한 내용과 밑에 시각화 할 내용들을 우리는 **지프의 법칙**이라고 합니다.\n",
    "- 지프의 법칙은 데이터의 순위와 빈도를 각 축에 로그 스케일로 나타낸 그래프를 통해 쉽게 확인할 수 있습니다.\n",
    "- 우리는 Jane Austen의 소설에 대한 지프의 법칙을 조사해보겠습니다."
   ]
  },
  {
   "cell_type": "markdown",
   "metadata": {},
   "source": [
    "책 안에 단어 별로 단어 빈도 구하고 순위 매기기"
   ]
  },
  {
   "cell_type": "code",
   "execution_count": 8,
   "metadata": {},
   "outputs": [
    {
     "data": {
      "text/html": [
       "<table>\n",
       "<thead><tr><th scope=col>book</th><th scope=col>word</th><th scope=col>n</th><th scope=col>total</th><th scope=col>rank</th><th scope=col>term frequency</th></tr></thead>\n",
       "<tbody>\n",
       "\t<tr><td>Mansfield Park     </td><td>the                </td><td>6206               </td><td>160460             </td><td>1                  </td><td>0.03867631         </td></tr>\n",
       "\t<tr><td>Mansfield Park     </td><td>to                 </td><td>5475               </td><td>160460             </td><td>2                  </td><td>0.03412065         </td></tr>\n",
       "\t<tr><td>Mansfield Park     </td><td>and                </td><td>5438               </td><td>160460             </td><td>3                  </td><td>0.03389007         </td></tr>\n",
       "\t<tr><td>Emma               </td><td>to                 </td><td>5239               </td><td>160996             </td><td>1                  </td><td>0.03254118         </td></tr>\n",
       "\t<tr><td>Emma               </td><td>the                </td><td>5201               </td><td>160996             </td><td>2                  </td><td>0.03230515         </td></tr>\n",
       "\t<tr><td>Emma               </td><td>and                </td><td>4896               </td><td>160996             </td><td>3                  </td><td>0.03041069         </td></tr>\n",
       "\t<tr><td>Mansfield Park     </td><td>of                 </td><td>4778               </td><td>160460             </td><td>4                  </td><td>0.02977689         </td></tr>\n",
       "\t<tr><td><span style=white-space:pre-wrap>Pride &amp; Prejudice  </span></td><td>the                                                            </td><td>4331                                                           </td><td>122204                                                         </td><td>1                                                              </td><td>0.03544074                                                     </td></tr>\n",
       "\t<tr><td>Emma               </td><td>of                 </td><td>4291               </td><td>160996             </td><td>4                  </td><td>0.02665284         </td></tr>\n",
       "\t<tr><td><span style=white-space:pre-wrap>Pride &amp; Prejudice  </span></td><td>to                                                             </td><td>4162                                                           </td><td>122204                                                         </td><td>2                                                              </td><td>0.03405780                                                     </td></tr>\n",
       "\t<tr><td>Sense &amp; Sensibility</td><td>to                     </td><td>4116                   </td><td>119957                 </td><td>1                      </td><td>0.03431230             </td></tr>\n",
       "\t<tr><td>Sense &amp; Sensibility</td><td>the                    </td><td>4105                   </td><td>119957                 </td><td>2                      </td><td>0.03422060             </td></tr>\n",
       "\t<tr><td><span style=white-space:pre-wrap>Pride &amp; Prejudice  </span></td><td>of                                                             </td><td>3610                                                           </td><td>122204                                                         </td><td>3                                                              </td><td>0.02954077                                                     </td></tr>\n",
       "\t<tr><td><span style=white-space:pre-wrap>Pride &amp; Prejudice  </span></td><td>and                                                            </td><td>3585                                                           </td><td>122204                                                         </td><td>4                                                              </td><td>0.02933619                                                     </td></tr>\n",
       "\t<tr><td>Sense &amp; Sensibility</td><td>of                     </td><td>3571                   </td><td>119957                 </td><td>3                      </td><td>0.02976900             </td></tr>\n",
       "\t<tr><td>Sense &amp; Sensibility</td><td>and                    </td><td>3490                   </td><td>119957                 </td><td>4                      </td><td>0.02909376             </td></tr>\n",
       "\t<tr><td>Persuasion         </td><td>the                </td><td>3329               </td><td> 83658             </td><td>1                  </td><td>0.03979297         </td></tr>\n",
       "\t<tr><td>Northanger Abbey   </td><td>the                </td><td>3179               </td><td> 77780             </td><td>1                  </td><td>0.04087169         </td></tr>\n",
       "\t<tr><td>Emma               </td><td>i                  </td><td>3177               </td><td>160996             </td><td>5                  </td><td>0.01973341         </td></tr>\n",
       "\t<tr><td>Emma               </td><td>a                  </td><td>3129               </td><td>160996             </td><td>6                  </td><td>0.01943527         </td></tr>\n",
       "\t<tr><td>Mansfield Park     </td><td>a                  </td><td>3099               </td><td>160460             </td><td>5                  </td><td>0.01931322         </td></tr>\n",
       "\t<tr><td>Mansfield Park     </td><td>her                </td><td>3082               </td><td>160460             </td><td>6                  </td><td>0.01920728         </td></tr>\n",
       "\t<tr><td>Persuasion         </td><td>to                 </td><td>2808               </td><td> 83658             </td><td>2                  </td><td>0.03356523         </td></tr>\n",
       "\t<tr><td>Persuasion         </td><td>and                </td><td>2800               </td><td> 83658             </td><td>3                  </td><td>0.03346960         </td></tr>\n",
       "\t<tr><td>Mansfield Park     </td><td>was                </td><td>2651               </td><td>160460             </td><td>7                  </td><td>0.01652125         </td></tr>\n",
       "\t<tr><td>Persuasion         </td><td>of                 </td><td>2570               </td><td> 83658             </td><td>4                  </td><td>0.03072031         </td></tr>\n",
       "\t<tr><td>Sense &amp; Sensibility</td><td>her                    </td><td>2543                   </td><td>119957                 </td><td>5                      </td><td>0.02119926             </td></tr>\n",
       "\t<tr><td>Emma               </td><td>it                 </td><td>2528               </td><td>160996             </td><td>7                  </td><td>0.01570225         </td></tr>\n",
       "\t<tr><td>Mansfield Park     </td><td>in                 </td><td>2512               </td><td>160460             </td><td>8                  </td><td>0.01565499         </td></tr>\n",
       "\t<tr><td>Emma               </td><td>her                </td><td>2462               </td><td>160996             </td><td>8                  </td><td>0.01529231         </td></tr>\n",
       "\t<tr><td>...</td><td>...</td><td>...</td><td>...</td><td>...</td><td>...</td></tr>\n",
       "\t<tr><td>Persuasion  </td><td>withdrawing </td><td>1           </td><td>83658       </td><td>5829        </td><td>1.195343e-05</td></tr>\n",
       "\t<tr><td>Persuasion  </td><td>withdrawn   </td><td>1           </td><td>83658       </td><td>5830        </td><td>1.195343e-05</td></tr>\n",
       "\t<tr><td>Persuasion  </td><td>withered    </td><td>1           </td><td>83658       </td><td>5831        </td><td>1.195343e-05</td></tr>\n",
       "\t<tr><td>Persuasion  </td><td>withholding </td><td>1           </td><td>83658       </td><td>5832        </td><td>1.195343e-05</td></tr>\n",
       "\t<tr><td>Persuasion  </td><td>witness     </td><td>1           </td><td>83658       </td><td>5833        </td><td>1.195343e-05</td></tr>\n",
       "\t<tr><td>Persuasion  </td><td>wm          </td><td>1           </td><td>83658       </td><td>5834        </td><td>1.195343e-05</td></tr>\n",
       "\t<tr><td>Persuasion  </td><td>woe         </td><td>1           </td><td>83658       </td><td>5835        </td><td>1.195343e-05</td></tr>\n",
       "\t<tr><td>Persuasion  </td><td>won         </td><td>1           </td><td>83658       </td><td>5836        </td><td>1.195343e-05</td></tr>\n",
       "\t<tr><td>Persuasion  </td><td>wont        </td><td>1           </td><td>83658       </td><td>5837        </td><td>1.195343e-05</td></tr>\n",
       "\t<tr><td>Persuasion  </td><td>wonted      </td><td>1           </td><td>83658       </td><td>5838        </td><td>1.195343e-05</td></tr>\n",
       "\t<tr><td>Persuasion  </td><td>wood        </td><td>1           </td><td>83658       </td><td>5839        </td><td>1.195343e-05</td></tr>\n",
       "\t<tr><td>Persuasion  </td><td>woody       </td><td>1           </td><td>83658       </td><td>5840        </td><td>1.195343e-05</td></tr>\n",
       "\t<tr><td>Persuasion  </td><td>workmen     </td><td>1           </td><td>83658       </td><td>5841        </td><td>1.195343e-05</td></tr>\n",
       "\t<tr><td>Persuasion  </td><td>works       </td><td>1           </td><td>83658       </td><td>5842        </td><td>1.195343e-05</td></tr>\n",
       "\t<tr><td>Persuasion  </td><td>world's     </td><td>1           </td><td>83658       </td><td>5843        </td><td>1.195343e-05</td></tr>\n",
       "\t<tr><td>Persuasion  </td><td>worsting    </td><td>1           </td><td>83658       </td><td>5844        </td><td>1.195343e-05</td></tr>\n",
       "\t<tr><td>Persuasion  </td><td>wrapt       </td><td>1           </td><td>83658       </td><td>5845        </td><td>1.195343e-05</td></tr>\n",
       "\t<tr><td>Persuasion  </td><td>wreck       </td><td>1           </td><td>83658       </td><td>5846        </td><td>1.195343e-05</td></tr>\n",
       "\t<tr><td>Persuasion  </td><td>wretchedly  </td><td>1           </td><td>83658       </td><td>5847        </td><td>1.195343e-05</td></tr>\n",
       "\t<tr><td>Persuasion  </td><td>wriggles    </td><td>1           </td><td>83658       </td><td>5848        </td><td>1.195343e-05</td></tr>\n",
       "\t<tr><td>Persuasion  </td><td>wrinkles    </td><td>1           </td><td>83658       </td><td>5849        </td><td>1.195343e-05</td></tr>\n",
       "\t<tr><td>Persuasion  </td><td>wrist       </td><td>1           </td><td>83658       </td><td>5850        </td><td>1.195343e-05</td></tr>\n",
       "\t<tr><td>Persuasion  </td><td>yearly      </td><td>1           </td><td>83658       </td><td>5851        </td><td>1.195343e-05</td></tr>\n",
       "\t<tr><td>Persuasion  </td><td>yeomen      </td><td>1           </td><td>83658       </td><td>5852        </td><td>1.195343e-05</td></tr>\n",
       "\t<tr><td>Persuasion  </td><td>yestermorn  </td><td>1           </td><td>83658       </td><td>5853        </td><td>1.195343e-05</td></tr>\n",
       "\t<tr><td>Persuasion  </td><td>yield       </td><td>1           </td><td>83658       </td><td>5854        </td><td>1.195343e-05</td></tr>\n",
       "\t<tr><td>Persuasion  </td><td>younker     </td><td>1           </td><td>83658       </td><td>5855        </td><td>1.195343e-05</td></tr>\n",
       "\t<tr><td>Persuasion  </td><td>youthful    </td><td>1           </td><td>83658       </td><td>5856        </td><td>1.195343e-05</td></tr>\n",
       "\t<tr><td>Persuasion  </td><td>z           </td><td>1           </td><td>83658       </td><td>5857        </td><td>1.195343e-05</td></tr>\n",
       "\t<tr><td>Persuasion  </td><td>zealously   </td><td>1           </td><td>83658       </td><td>5858        </td><td>1.195343e-05</td></tr>\n",
       "</tbody>\n",
       "</table>\n"
      ],
      "text/latex": [
       "\\begin{tabular}{r|llllll}\n",
       " book & word & n & total & rank & term frequency\\\\\n",
       "\\hline\n",
       "\t Mansfield Park      & the                 & 6206                & 160460              & 1                   & 0.03867631         \\\\\n",
       "\t Mansfield Park      & to                  & 5475                & 160460              & 2                   & 0.03412065         \\\\\n",
       "\t Mansfield Park      & and                 & 5438                & 160460              & 3                   & 0.03389007         \\\\\n",
       "\t Emma                & to                  & 5239                & 160996              & 1                   & 0.03254118         \\\\\n",
       "\t Emma                & the                 & 5201                & 160996              & 2                   & 0.03230515         \\\\\n",
       "\t Emma                & and                 & 4896                & 160996              & 3                   & 0.03041069         \\\\\n",
       "\t Mansfield Park      & of                  & 4778                & 160460              & 4                   & 0.02977689         \\\\\n",
       "\t Pride \\& Prejudice   & the                   & 4331                  & 122204                & 1                     & 0.03544074           \\\\\n",
       "\t Emma                & of                  & 4291                & 160996              & 4                   & 0.02665284         \\\\\n",
       "\t Pride \\& Prejudice   & to                    & 4162                  & 122204                & 2                     & 0.03405780           \\\\\n",
       "\t Sense \\& Sensibility & to                    & 4116                  & 119957                & 1                     & 0.03431230           \\\\\n",
       "\t Sense \\& Sensibility & the                   & 4105                  & 119957                & 2                     & 0.03422060           \\\\\n",
       "\t Pride \\& Prejudice   & of                    & 3610                  & 122204                & 3                     & 0.02954077           \\\\\n",
       "\t Pride \\& Prejudice   & and                   & 3585                  & 122204                & 4                     & 0.02933619           \\\\\n",
       "\t Sense \\& Sensibility & of                    & 3571                  & 119957                & 3                     & 0.02976900           \\\\\n",
       "\t Sense \\& Sensibility & and                   & 3490                  & 119957                & 4                     & 0.02909376           \\\\\n",
       "\t Persuasion          & the                 & 3329                &  83658              & 1                   & 0.03979297         \\\\\n",
       "\t Northanger Abbey    & the                 & 3179                &  77780              & 1                   & 0.04087169         \\\\\n",
       "\t Emma                & i                   & 3177                & 160996              & 5                   & 0.01973341         \\\\\n",
       "\t Emma                & a                   & 3129                & 160996              & 6                   & 0.01943527         \\\\\n",
       "\t Mansfield Park      & a                   & 3099                & 160460              & 5                   & 0.01931322         \\\\\n",
       "\t Mansfield Park      & her                 & 3082                & 160460              & 6                   & 0.01920728         \\\\\n",
       "\t Persuasion          & to                  & 2808                &  83658              & 2                   & 0.03356523         \\\\\n",
       "\t Persuasion          & and                 & 2800                &  83658              & 3                   & 0.03346960         \\\\\n",
       "\t Mansfield Park      & was                 & 2651                & 160460              & 7                   & 0.01652125         \\\\\n",
       "\t Persuasion          & of                  & 2570                &  83658              & 4                   & 0.03072031         \\\\\n",
       "\t Sense \\& Sensibility & her                   & 2543                  & 119957                & 5                     & 0.02119926           \\\\\n",
       "\t Emma                & it                  & 2528                & 160996              & 7                   & 0.01570225         \\\\\n",
       "\t Mansfield Park      & in                  & 2512                & 160460              & 8                   & 0.01565499         \\\\\n",
       "\t Emma                & her                 & 2462                & 160996              & 8                   & 0.01529231         \\\\\n",
       "\t ... & ... & ... & ... & ... & ...\\\\\n",
       "\t Persuasion   & withdrawing  & 1            & 83658        & 5829         & 1.195343e-05\\\\\n",
       "\t Persuasion   & withdrawn    & 1            & 83658        & 5830         & 1.195343e-05\\\\\n",
       "\t Persuasion   & withered     & 1            & 83658        & 5831         & 1.195343e-05\\\\\n",
       "\t Persuasion   & withholding  & 1            & 83658        & 5832         & 1.195343e-05\\\\\n",
       "\t Persuasion   & witness      & 1            & 83658        & 5833         & 1.195343e-05\\\\\n",
       "\t Persuasion   & wm           & 1            & 83658        & 5834         & 1.195343e-05\\\\\n",
       "\t Persuasion   & woe          & 1            & 83658        & 5835         & 1.195343e-05\\\\\n",
       "\t Persuasion   & won          & 1            & 83658        & 5836         & 1.195343e-05\\\\\n",
       "\t Persuasion   & wont         & 1            & 83658        & 5837         & 1.195343e-05\\\\\n",
       "\t Persuasion   & wonted       & 1            & 83658        & 5838         & 1.195343e-05\\\\\n",
       "\t Persuasion   & wood         & 1            & 83658        & 5839         & 1.195343e-05\\\\\n",
       "\t Persuasion   & woody        & 1            & 83658        & 5840         & 1.195343e-05\\\\\n",
       "\t Persuasion   & workmen      & 1            & 83658        & 5841         & 1.195343e-05\\\\\n",
       "\t Persuasion   & works        & 1            & 83658        & 5842         & 1.195343e-05\\\\\n",
       "\t Persuasion   & world's      & 1            & 83658        & 5843         & 1.195343e-05\\\\\n",
       "\t Persuasion   & worsting     & 1            & 83658        & 5844         & 1.195343e-05\\\\\n",
       "\t Persuasion   & wrapt        & 1            & 83658        & 5845         & 1.195343e-05\\\\\n",
       "\t Persuasion   & wreck        & 1            & 83658        & 5846         & 1.195343e-05\\\\\n",
       "\t Persuasion   & wretchedly   & 1            & 83658        & 5847         & 1.195343e-05\\\\\n",
       "\t Persuasion   & wriggles     & 1            & 83658        & 5848         & 1.195343e-05\\\\\n",
       "\t Persuasion   & wrinkles     & 1            & 83658        & 5849         & 1.195343e-05\\\\\n",
       "\t Persuasion   & wrist        & 1            & 83658        & 5850         & 1.195343e-05\\\\\n",
       "\t Persuasion   & yearly       & 1            & 83658        & 5851         & 1.195343e-05\\\\\n",
       "\t Persuasion   & yeomen       & 1            & 83658        & 5852         & 1.195343e-05\\\\\n",
       "\t Persuasion   & yestermorn   & 1            & 83658        & 5853         & 1.195343e-05\\\\\n",
       "\t Persuasion   & yield        & 1            & 83658        & 5854         & 1.195343e-05\\\\\n",
       "\t Persuasion   & younker      & 1            & 83658        & 5855         & 1.195343e-05\\\\\n",
       "\t Persuasion   & youthful     & 1            & 83658        & 5856         & 1.195343e-05\\\\\n",
       "\t Persuasion   & z            & 1            & 83658        & 5857         & 1.195343e-05\\\\\n",
       "\t Persuasion   & zealously    & 1            & 83658        & 5858         & 1.195343e-05\\\\\n",
       "\\end{tabular}\n"
      ],
      "text/markdown": [
       "\n",
       "| book | word | n | total | rank | term frequency |\n",
       "|---|---|---|---|---|---|\n",
       "| Mansfield Park      | the                 | 6206                | 160460              | 1                   | 0.03867631          |\n",
       "| Mansfield Park      | to                  | 5475                | 160460              | 2                   | 0.03412065          |\n",
       "| Mansfield Park      | and                 | 5438                | 160460              | 3                   | 0.03389007          |\n",
       "| Emma                | to                  | 5239                | 160996              | 1                   | 0.03254118          |\n",
       "| Emma                | the                 | 5201                | 160996              | 2                   | 0.03230515          |\n",
       "| Emma                | and                 | 4896                | 160996              | 3                   | 0.03041069          |\n",
       "| Mansfield Park      | of                  | 4778                | 160460              | 4                   | 0.02977689          |\n",
       "| Pride & Prejudice   | the                 | 4331                | 122204              | 1                   | 0.03544074          |\n",
       "| Emma                | of                  | 4291                | 160996              | 4                   | 0.02665284          |\n",
       "| Pride & Prejudice   | to                  | 4162                | 122204              | 2                   | 0.03405780          |\n",
       "| Sense & Sensibility | to                  | 4116                | 119957              | 1                   | 0.03431230          |\n",
       "| Sense & Sensibility | the                 | 4105                | 119957              | 2                   | 0.03422060          |\n",
       "| Pride & Prejudice   | of                  | 3610                | 122204              | 3                   | 0.02954077          |\n",
       "| Pride & Prejudice   | and                 | 3585                | 122204              | 4                   | 0.02933619          |\n",
       "| Sense & Sensibility | of                  | 3571                | 119957              | 3                   | 0.02976900          |\n",
       "| Sense & Sensibility | and                 | 3490                | 119957              | 4                   | 0.02909376          |\n",
       "| Persuasion          | the                 | 3329                |  83658              | 1                   | 0.03979297          |\n",
       "| Northanger Abbey    | the                 | 3179                |  77780              | 1                   | 0.04087169          |\n",
       "| Emma                | i                   | 3177                | 160996              | 5                   | 0.01973341          |\n",
       "| Emma                | a                   | 3129                | 160996              | 6                   | 0.01943527          |\n",
       "| Mansfield Park      | a                   | 3099                | 160460              | 5                   | 0.01931322          |\n",
       "| Mansfield Park      | her                 | 3082                | 160460              | 6                   | 0.01920728          |\n",
       "| Persuasion          | to                  | 2808                |  83658              | 2                   | 0.03356523          |\n",
       "| Persuasion          | and                 | 2800                |  83658              | 3                   | 0.03346960          |\n",
       "| Mansfield Park      | was                 | 2651                | 160460              | 7                   | 0.01652125          |\n",
       "| Persuasion          | of                  | 2570                |  83658              | 4                   | 0.03072031          |\n",
       "| Sense & Sensibility | her                 | 2543                | 119957              | 5                   | 0.02119926          |\n",
       "| Emma                | it                  | 2528                | 160996              | 7                   | 0.01570225          |\n",
       "| Mansfield Park      | in                  | 2512                | 160460              | 8                   | 0.01565499          |\n",
       "| Emma                | her                 | 2462                | 160996              | 8                   | 0.01529231          |\n",
       "| ... | ... | ... | ... | ... | ... |\n",
       "| Persuasion   | withdrawing  | 1            | 83658        | 5829         | 1.195343e-05 |\n",
       "| Persuasion   | withdrawn    | 1            | 83658        | 5830         | 1.195343e-05 |\n",
       "| Persuasion   | withered     | 1            | 83658        | 5831         | 1.195343e-05 |\n",
       "| Persuasion   | withholding  | 1            | 83658        | 5832         | 1.195343e-05 |\n",
       "| Persuasion   | witness      | 1            | 83658        | 5833         | 1.195343e-05 |\n",
       "| Persuasion   | wm           | 1            | 83658        | 5834         | 1.195343e-05 |\n",
       "| Persuasion   | woe          | 1            | 83658        | 5835         | 1.195343e-05 |\n",
       "| Persuasion   | won          | 1            | 83658        | 5836         | 1.195343e-05 |\n",
       "| Persuasion   | wont         | 1            | 83658        | 5837         | 1.195343e-05 |\n",
       "| Persuasion   | wonted       | 1            | 83658        | 5838         | 1.195343e-05 |\n",
       "| Persuasion   | wood         | 1            | 83658        | 5839         | 1.195343e-05 |\n",
       "| Persuasion   | woody        | 1            | 83658        | 5840         | 1.195343e-05 |\n",
       "| Persuasion   | workmen      | 1            | 83658        | 5841         | 1.195343e-05 |\n",
       "| Persuasion   | works        | 1            | 83658        | 5842         | 1.195343e-05 |\n",
       "| Persuasion   | world's      | 1            | 83658        | 5843         | 1.195343e-05 |\n",
       "| Persuasion   | worsting     | 1            | 83658        | 5844         | 1.195343e-05 |\n",
       "| Persuasion   | wrapt        | 1            | 83658        | 5845         | 1.195343e-05 |\n",
       "| Persuasion   | wreck        | 1            | 83658        | 5846         | 1.195343e-05 |\n",
       "| Persuasion   | wretchedly   | 1            | 83658        | 5847         | 1.195343e-05 |\n",
       "| Persuasion   | wriggles     | 1            | 83658        | 5848         | 1.195343e-05 |\n",
       "| Persuasion   | wrinkles     | 1            | 83658        | 5849         | 1.195343e-05 |\n",
       "| Persuasion   | wrist        | 1            | 83658        | 5850         | 1.195343e-05 |\n",
       "| Persuasion   | yearly       | 1            | 83658        | 5851         | 1.195343e-05 |\n",
       "| Persuasion   | yeomen       | 1            | 83658        | 5852         | 1.195343e-05 |\n",
       "| Persuasion   | yestermorn   | 1            | 83658        | 5853         | 1.195343e-05 |\n",
       "| Persuasion   | yield        | 1            | 83658        | 5854         | 1.195343e-05 |\n",
       "| Persuasion   | younker      | 1            | 83658        | 5855         | 1.195343e-05 |\n",
       "| Persuasion   | youthful     | 1            | 83658        | 5856         | 1.195343e-05 |\n",
       "| Persuasion   | z            | 1            | 83658        | 5857         | 1.195343e-05 |\n",
       "| Persuasion   | zealously    | 1            | 83658        | 5858         | 1.195343e-05 |\n",
       "\n"
      ],
      "text/plain": [
       "      book                word        n    total  rank term frequency\n",
       "1     Mansfield Park      the         6206 160460 1    0.03867631    \n",
       "2     Mansfield Park      to          5475 160460 2    0.03412065    \n",
       "3     Mansfield Park      and         5438 160460 3    0.03389007    \n",
       "4     Emma                to          5239 160996 1    0.03254118    \n",
       "5     Emma                the         5201 160996 2    0.03230515    \n",
       "6     Emma                and         4896 160996 3    0.03041069    \n",
       "7     Mansfield Park      of          4778 160460 4    0.02977689    \n",
       "8     Pride & Prejudice   the         4331 122204 1    0.03544074    \n",
       "9     Emma                of          4291 160996 4    0.02665284    \n",
       "10    Pride & Prejudice   to          4162 122204 2    0.03405780    \n",
       "11    Sense & Sensibility to          4116 119957 1    0.03431230    \n",
       "12    Sense & Sensibility the         4105 119957 2    0.03422060    \n",
       "13    Pride & Prejudice   of          3610 122204 3    0.02954077    \n",
       "14    Pride & Prejudice   and         3585 122204 4    0.02933619    \n",
       "15    Sense & Sensibility of          3571 119957 3    0.02976900    \n",
       "16    Sense & Sensibility and         3490 119957 4    0.02909376    \n",
       "17    Persuasion          the         3329  83658 1    0.03979297    \n",
       "18    Northanger Abbey    the         3179  77780 1    0.04087169    \n",
       "19    Emma                i           3177 160996 5    0.01973341    \n",
       "20    Emma                a           3129 160996 6    0.01943527    \n",
       "21    Mansfield Park      a           3099 160460 5    0.01931322    \n",
       "22    Mansfield Park      her         3082 160460 6    0.01920728    \n",
       "23    Persuasion          to          2808  83658 2    0.03356523    \n",
       "24    Persuasion          and         2800  83658 3    0.03346960    \n",
       "25    Mansfield Park      was         2651 160460 7    0.01652125    \n",
       "26    Persuasion          of          2570  83658 4    0.03072031    \n",
       "27    Sense & Sensibility her         2543 119957 5    0.02119926    \n",
       "28    Emma                it          2528 160996 7    0.01570225    \n",
       "29    Mansfield Park      in          2512 160460 8    0.01565499    \n",
       "30    Emma                her         2462 160996 8    0.01529231    \n",
       "...   ...                 ...         ...  ...    ...  ...           \n",
       "40350 Persuasion          withdrawing 1    83658  5829 1.195343e-05  \n",
       "40351 Persuasion          withdrawn   1    83658  5830 1.195343e-05  \n",
       "40352 Persuasion          withered    1    83658  5831 1.195343e-05  \n",
       "40353 Persuasion          withholding 1    83658  5832 1.195343e-05  \n",
       "40354 Persuasion          witness     1    83658  5833 1.195343e-05  \n",
       "40355 Persuasion          wm          1    83658  5834 1.195343e-05  \n",
       "40356 Persuasion          woe         1    83658  5835 1.195343e-05  \n",
       "40357 Persuasion          won         1    83658  5836 1.195343e-05  \n",
       "40358 Persuasion          wont        1    83658  5837 1.195343e-05  \n",
       "40359 Persuasion          wonted      1    83658  5838 1.195343e-05  \n",
       "40360 Persuasion          wood        1    83658  5839 1.195343e-05  \n",
       "40361 Persuasion          woody       1    83658  5840 1.195343e-05  \n",
       "40362 Persuasion          workmen     1    83658  5841 1.195343e-05  \n",
       "40363 Persuasion          works       1    83658  5842 1.195343e-05  \n",
       "40364 Persuasion          world's     1    83658  5843 1.195343e-05  \n",
       "40365 Persuasion          worsting    1    83658  5844 1.195343e-05  \n",
       "40366 Persuasion          wrapt       1    83658  5845 1.195343e-05  \n",
       "40367 Persuasion          wreck       1    83658  5846 1.195343e-05  \n",
       "40368 Persuasion          wretchedly  1    83658  5847 1.195343e-05  \n",
       "40369 Persuasion          wriggles    1    83658  5848 1.195343e-05  \n",
       "40370 Persuasion          wrinkles    1    83658  5849 1.195343e-05  \n",
       "40371 Persuasion          wrist       1    83658  5850 1.195343e-05  \n",
       "40372 Persuasion          yearly      1    83658  5851 1.195343e-05  \n",
       "40373 Persuasion          yeomen      1    83658  5852 1.195343e-05  \n",
       "40374 Persuasion          yestermorn  1    83658  5853 1.195343e-05  \n",
       "40375 Persuasion          yield       1    83658  5854 1.195343e-05  \n",
       "40376 Persuasion          younker     1    83658  5855 1.195343e-05  \n",
       "40377 Persuasion          youthful    1    83658  5856 1.195343e-05  \n",
       "40378 Persuasion          z           1    83658  5857 1.195343e-05  \n",
       "40379 Persuasion          zealously   1    83658  5858 1.195343e-05  "
      ]
     },
     "metadata": {},
     "output_type": "display_data"
    }
   ],
   "source": [
    "freq_by_rank <- book_words %>% \n",
    "  group_by(book) %>% \n",
    "  mutate(rank = row_number(), \n",
    "         `term frequency` = n/total) %>%\n",
    "  ungroup()\n",
    "\n",
    "freq_by_rank"
   ]
  },
  {
   "cell_type": "markdown",
   "metadata": {},
   "source": [
    "시각화"
   ]
  },
  {
   "cell_type": "code",
   "execution_count": 9,
   "metadata": {},
   "outputs": [
    {
     "data": {
      "image/png": "[encoded data removed]",
      "text/plain": [
       "plot without title"
      ]
     },
     "metadata": {},
     "output_type": "display_data"
    }
   ],
   "source": [
    "freq_by_rank %>% \n",
    "  ggplot(aes(rank, `term frequency`, color = book)) + \n",
    "  geom_line(size = 1.1, alpha = 0.8, show.legend = FALSE) + \n",
    "  scale_x_log10() +\n",
    "  scale_y_log10()"
   ]
  },
  {
   "cell_type": "markdown",
   "metadata": {},
   "source": [
    "- geom_line(size=1.1, alpha=0.8) : 선 그래프 그리기, alpha는 투명도를 의미 \n",
    "- scale_x_log10(), y_log10() : x축의 scale을 log10으로 변환 (x,y축의 범위를 늘림) \n",
    "- 순위별로 점차적으로 단어 빈도가 낮아지는 것을 확인할 수 있습니다.\n",
    "- 지프의 법칙은 로그 눈금에서 x축에 순위를 표시하고 y축에 빈도를 표시하여 종종 시각화된다고 합니다.\n",
    "- 반비례 관계와, 음의 기울기를 가집니다.\n",
    "- 3부분의 power row 법칙을 가집니다.\n",
    "- 위 그래프를 보면 6가지의 책이 다 비슷한 shape를 가지는 것을 알 수있습니다."
   ]
  },
  {
   "cell_type": "markdown",
   "metadata": {},
   "source": [
    "**broken power low?!**"
   ]
  },
  {
   "cell_type": "code",
   "execution_count": 10,
   "metadata": {},
   "outputs": [
    {
     "data": {
      "text/html": [
       "<table>\n",
       "<thead><tr><th scope=col>book</th><th scope=col>word</th><th scope=col>n</th><th scope=col>total</th><th scope=col>rank</th><th scope=col>term frequency</th></tr></thead>\n",
       "<tbody>\n",
       "\t<tr><td>Mansfield Park     </td><td>she                </td><td>2246               </td><td>160460             </td><td>11                 </td><td>0.013997258        </td></tr>\n",
       "\t<tr><td>Emma               </td><td>in                 </td><td>2189               </td><td>160996             </td><td>11                 </td><td>0.013596611        </td></tr>\n",
       "\t<tr><td>Emma               </td><td>not                </td><td>2140               </td><td>160996             </td><td>12                 </td><td>0.013292256        </td></tr>\n",
       "\t<tr><td>Emma               </td><td>you                </td><td>1980               </td><td>160996             </td><td>13                 </td><td>0.012298442        </td></tr>\n",
       "\t<tr><td>Emma               </td><td>be                 </td><td>1975               </td><td>160996             </td><td>14                 </td><td>0.012267386        </td></tr>\n",
       "\t<tr><td>Mansfield Park     </td><td>be                 </td><td>1904               </td><td>160460             </td><td>12                 </td><td>0.011865886        </td></tr>\n",
       "\t<tr><td>Mansfield Park     </td><td>not                </td><td>1815               </td><td>160460             </td><td>13                 </td><td>0.011311230        </td></tr>\n",
       "\t<tr><td>Emma               </td><td>he                 </td><td>1806               </td><td>160996             </td><td>15                 </td><td>0.011217670        </td></tr>\n",
       "\t<tr><td>Emma               </td><td>that               </td><td>1788               </td><td>160996             </td><td>16                 </td><td>0.011105866        </td></tr>\n",
       "\t<tr><td>Mansfield Park     </td><td>as                 </td><td>1702               </td><td>160460             </td><td>14                 </td><td>0.010607005        </td></tr>\n",
       "\t<tr><td>Mansfield Park     </td><td>had                </td><td>1637               </td><td>160460             </td><td>15                 </td><td>0.010201919        </td></tr>\n",
       "\t<tr><td>Emma               </td><td>had                </td><td>1624               </td><td>160996             </td><td>17                 </td><td>0.010087207        </td></tr>\n",
       "\t<tr><td>Mansfield Park     </td><td>that               </td><td>1620               </td><td>160460             </td><td>16                 </td><td>0.010095974        </td></tr>\n",
       "\t<tr><td>Sense &amp; Sensibility</td><td>she                    </td><td>1613                   </td><td>119957                 </td><td>11                     </td><td>0.013446485            </td></tr>\n",
       "\t<tr><td>Mansfield Park     </td><td>you                </td><td>1588               </td><td>160460             </td><td>17                 </td><td>0.009896547        </td></tr>\n",
       "\t<tr><td>Mansfield Park     </td><td>for                </td><td>1545               </td><td>160460             </td><td>18                 </td><td>0.009628568        </td></tr>\n",
       "\t<tr><td>Mansfield Park     </td><td>he                 </td><td>1543               </td><td>160460             </td><td>19                 </td><td>0.009616104        </td></tr>\n",
       "\t<tr><td><span style=white-space:pre-wrap>Pride &amp; Prejudice  </span></td><td>that                                                           </td><td>1541                                                           </td><td>122204                                                         </td><td>11                                                             </td><td>0.012610062                                                    </td></tr>\n",
       "\t<tr><td><span style=white-space:pre-wrap>Pride &amp; Prejudice  </span></td><td><span style=white-space:pre-wrap>it  </span>                   </td><td>1535                                                           </td><td>122204                                                         </td><td>12                                                             </td><td>0.012560964                                                    </td></tr>\n",
       "\t<tr><td>Emma               </td><td>but                </td><td>1441               </td><td>160996             </td><td>18                 </td><td>0.008950533        </td></tr>\n",
       "\t<tr><td>Emma               </td><td>as                 </td><td>1436               </td><td>160996             </td><td>19                 </td><td>0.008919476        </td></tr>\n",
       "\t<tr><td><span style=white-space:pre-wrap>Pride &amp; Prejudice  </span></td><td>not                                                            </td><td>1421                                                           </td><td>122204                                                         </td><td>13                                                             </td><td>0.011628097                                                    </td></tr>\n",
       "\t<tr><td>Sense &amp; Sensibility</td><td>that                   </td><td>1382                   </td><td>119957                 </td><td>12                     </td><td>0.011520795            </td></tr>\n",
       "\t<tr><td>Emma               </td><td>for                </td><td>1347               </td><td>160996             </td><td>20                 </td><td>0.008366667        </td></tr>\n",
       "\t<tr><td>Mansfield Park     </td><td>his                </td><td>1339               </td><td>160460             </td><td>20                 </td><td>0.008344759        </td></tr>\n",
       "\t<tr><td>Mansfield Park     </td><td>with               </td><td>1337               </td><td>160460             </td><td>21                 </td><td>0.008332295        </td></tr>\n",
       "\t<tr><td><span style=white-space:pre-wrap>Pride &amp; Prejudice  </span></td><td>you                                                            </td><td>1326                                                           </td><td>122204                                                         </td><td>14                                                             </td><td>0.010850709                                                    </td></tr>\n",
       "\t<tr><td><span style=white-space:pre-wrap>Pride &amp; Prejudice  </span></td><td><span style=white-space:pre-wrap>he  </span>                   </td><td>1324                                                           </td><td>122204                                                         </td><td>15                                                             </td><td>0.010834343                                                    </td></tr>\n",
       "\t<tr><td>Emma               </td><td>have               </td><td>1320               </td><td>160996             </td><td>21                 </td><td>0.008198961        </td></tr>\n",
       "\t<tr><td>Sense &amp; Sensibility                     </td><td><span style=white-space:pre-wrap>be  </span></td><td>1299                                        </td><td>119957                                      </td><td>13                                          </td><td>0.010828880                                 </td></tr>\n",
       "\t<tr><td>...</td><td>...</td><td>...</td><td>...</td><td>...</td><td>...</td></tr>\n",
       "\t<tr><td>Northanger Abbey</td><td>air             </td><td>19              </td><td>77780           </td><td>470             </td><td>0.0002442787    </td></tr>\n",
       "\t<tr><td>Northanger Abbey</td><td>anxious         </td><td>19              </td><td>77780           </td><td>471             </td><td>0.0002442787    </td></tr>\n",
       "\t<tr><td>Northanger Abbey</td><td>arm             </td><td>19              </td><td>77780           </td><td>472             </td><td>0.0002442787    </td></tr>\n",
       "\t<tr><td>Northanger Abbey</td><td>aware           </td><td>19              </td><td>77780           </td><td>473             </td><td>0.0002442787    </td></tr>\n",
       "\t<tr><td>Northanger Abbey</td><td>believed        </td><td>19              </td><td>77780           </td><td>474             </td><td>0.0002442787    </td></tr>\n",
       "\t<tr><td>Northanger Abbey</td><td>breakfast       </td><td>19              </td><td>77780           </td><td>475             </td><td>0.0002442787    </td></tr>\n",
       "\t<tr><td>Northanger Abbey</td><td>determined      </td><td>19              </td><td>77780           </td><td>476             </td><td>0.0002442787    </td></tr>\n",
       "\t<tr><td>Northanger Abbey</td><td>doing           </td><td>19              </td><td>77780           </td><td>477             </td><td>0.0002442787    </td></tr>\n",
       "\t<tr><td>Northanger Abbey</td><td>equal           </td><td>19              </td><td>77780           </td><td>478             </td><td>0.0002442787    </td></tr>\n",
       "\t<tr><td>Northanger Abbey</td><td>equally         </td><td>19              </td><td>77780           </td><td>479             </td><td>0.0002442787    </td></tr>\n",
       "\t<tr><td>Northanger Abbey</td><td>fond            </td><td>19              </td><td>77780           </td><td>480             </td><td>0.0002442787    </td></tr>\n",
       "\t<tr><td>Northanger Abbey</td><td>money           </td><td>19              </td><td>77780           </td><td>481             </td><td>0.0002442787    </td></tr>\n",
       "\t<tr><td>Northanger Abbey</td><td>remember        </td><td>19              </td><td>77780           </td><td>482             </td><td>0.0002442787    </td></tr>\n",
       "\t<tr><td>Northanger Abbey</td><td>saying          </td><td>19              </td><td>77780           </td><td>483             </td><td>0.0002442787    </td></tr>\n",
       "\t<tr><td>Northanger Abbey</td><td>second          </td><td>19              </td><td>77780           </td><td>484             </td><td>0.0002442787    </td></tr>\n",
       "\t<tr><td>Northanger Abbey</td><td>smile           </td><td>19              </td><td>77780           </td><td>485             </td><td>0.0002442787    </td></tr>\n",
       "\t<tr><td>Northanger Abbey</td><td>sudden          </td><td>19              </td><td>77780           </td><td>486             </td><td>0.0002442787    </td></tr>\n",
       "\t<tr><td>Northanger Abbey</td><td>talk            </td><td>19              </td><td>77780           </td><td>487             </td><td>0.0002442787    </td></tr>\n",
       "\t<tr><td>Northanger Abbey</td><td>thinking        </td><td>19              </td><td>77780           </td><td>488             </td><td>0.0002442787    </td></tr>\n",
       "\t<tr><td>Northanger Abbey</td><td>visit           </td><td>19              </td><td>77780           </td><td>489             </td><td>0.0002442787    </td></tr>\n",
       "\t<tr><td>Northanger Abbey</td><td>voice           </td><td>19              </td><td>77780           </td><td>490             </td><td>0.0002442787    </td></tr>\n",
       "\t<tr><td>Northanger Abbey</td><td>wishes          </td><td>19              </td><td>77780           </td><td>491             </td><td>0.0002442787    </td></tr>\n",
       "\t<tr><td>Northanger Abbey</td><td>asked           </td><td>18              </td><td>77780           </td><td>492             </td><td>0.0002314220    </td></tr>\n",
       "\t<tr><td>Northanger Abbey</td><td>assure          </td><td>18              </td><td>77780           </td><td>493             </td><td>0.0002314220    </td></tr>\n",
       "\t<tr><td>Northanger Abbey</td><td>behind          </td><td>18              </td><td>77780           </td><td>494             </td><td>0.0002314220    </td></tr>\n",
       "\t<tr><td>Northanger Abbey</td><td>countenance     </td><td>18              </td><td>77780           </td><td>495             </td><td>0.0002314220    </td></tr>\n",
       "\t<tr><td>Northanger Abbey</td><td>fancy           </td><td>18              </td><td>77780           </td><td>496             </td><td>0.0002314220    </td></tr>\n",
       "\t<tr><td>Northanger Abbey</td><td>finding         </td><td>18              </td><td>77780           </td><td>497             </td><td>0.0002314220    </td></tr>\n",
       "\t<tr><td>Northanger Abbey</td><td>forward         </td><td>18              </td><td>77780           </td><td>498             </td><td>0.0002314220    </td></tr>\n",
       "\t<tr><td>Northanger Abbey</td><td>friendship      </td><td>18              </td><td>77780           </td><td>499             </td><td>0.0002314220    </td></tr>\n",
       "</tbody>\n",
       "</table>\n"
      ],
      "text/latex": [
       "\\begin{tabular}{r|llllll}\n",
       " book & word & n & total & rank & term frequency\\\\\n",
       "\\hline\n",
       "\t Mansfield Park      & she                 & 2246                & 160460              & 11                  & 0.013997258        \\\\\n",
       "\t Emma                & in                  & 2189                & 160996              & 11                  & 0.013596611        \\\\\n",
       "\t Emma                & not                 & 2140                & 160996              & 12                  & 0.013292256        \\\\\n",
       "\t Emma                & you                 & 1980                & 160996              & 13                  & 0.012298442        \\\\\n",
       "\t Emma                & be                  & 1975                & 160996              & 14                  & 0.012267386        \\\\\n",
       "\t Mansfield Park      & be                  & 1904                & 160460              & 12                  & 0.011865886        \\\\\n",
       "\t Mansfield Park      & not                 & 1815                & 160460              & 13                  & 0.011311230        \\\\\n",
       "\t Emma                & he                  & 1806                & 160996              & 15                  & 0.011217670        \\\\\n",
       "\t Emma                & that                & 1788                & 160996              & 16                  & 0.011105866        \\\\\n",
       "\t Mansfield Park      & as                  & 1702                & 160460              & 14                  & 0.010607005        \\\\\n",
       "\t Mansfield Park      & had                 & 1637                & 160460              & 15                  & 0.010201919        \\\\\n",
       "\t Emma                & had                 & 1624                & 160996              & 17                  & 0.010087207        \\\\\n",
       "\t Mansfield Park      & that                & 1620                & 160460              & 16                  & 0.010095974        \\\\\n",
       "\t Sense \\& Sensibility & she                   & 1613                  & 119957                & 11                    & 0.013446485          \\\\\n",
       "\t Mansfield Park      & you                 & 1588                & 160460              & 17                  & 0.009896547        \\\\\n",
       "\t Mansfield Park      & for                 & 1545                & 160460              & 18                  & 0.009628568        \\\\\n",
       "\t Mansfield Park      & he                  & 1543                & 160460              & 19                  & 0.009616104        \\\\\n",
       "\t Pride \\& Prejudice   & that                  & 1541                  & 122204                & 11                    & 0.012610062          \\\\\n",
       "\t Pride \\& Prejudice   & it                    & 1535                  & 122204                & 12                    & 0.012560964          \\\\\n",
       "\t Emma                & but                 & 1441                & 160996              & 18                  & 0.008950533        \\\\\n",
       "\t Emma                & as                  & 1436                & 160996              & 19                  & 0.008919476        \\\\\n",
       "\t Pride \\& Prejudice   & not                   & 1421                  & 122204                & 13                    & 0.011628097          \\\\\n",
       "\t Sense \\& Sensibility & that                  & 1382                  & 119957                & 12                    & 0.011520795          \\\\\n",
       "\t Emma                & for                 & 1347                & 160996              & 20                  & 0.008366667        \\\\\n",
       "\t Mansfield Park      & his                 & 1339                & 160460              & 20                  & 0.008344759        \\\\\n",
       "\t Mansfield Park      & with                & 1337                & 160460              & 21                  & 0.008332295        \\\\\n",
       "\t Pride \\& Prejudice   & you                   & 1326                  & 122204                & 14                    & 0.010850709          \\\\\n",
       "\t Pride \\& Prejudice   & he                    & 1324                  & 122204                & 15                    & 0.010834343          \\\\\n",
       "\t Emma                & have                & 1320                & 160996              & 21                  & 0.008198961        \\\\\n",
       "\t Sense \\& Sensibility & be                    & 1299                  & 119957                & 13                    & 0.010828880          \\\\\n",
       "\t ... & ... & ... & ... & ... & ...\\\\\n",
       "\t Northanger Abbey & air              & 19               & 77780            & 470              & 0.0002442787    \\\\\n",
       "\t Northanger Abbey & anxious          & 19               & 77780            & 471              & 0.0002442787    \\\\\n",
       "\t Northanger Abbey & arm              & 19               & 77780            & 472              & 0.0002442787    \\\\\n",
       "\t Northanger Abbey & aware            & 19               & 77780            & 473              & 0.0002442787    \\\\\n",
       "\t Northanger Abbey & believed         & 19               & 77780            & 474              & 0.0002442787    \\\\\n",
       "\t Northanger Abbey & breakfast        & 19               & 77780            & 475              & 0.0002442787    \\\\\n",
       "\t Northanger Abbey & determined       & 19               & 77780            & 476              & 0.0002442787    \\\\\n",
       "\t Northanger Abbey & doing            & 19               & 77780            & 477              & 0.0002442787    \\\\\n",
       "\t Northanger Abbey & equal            & 19               & 77780            & 478              & 0.0002442787    \\\\\n",
       "\t Northanger Abbey & equally          & 19               & 77780            & 479              & 0.0002442787    \\\\\n",
       "\t Northanger Abbey & fond             & 19               & 77780            & 480              & 0.0002442787    \\\\\n",
       "\t Northanger Abbey & money            & 19               & 77780            & 481              & 0.0002442787    \\\\\n",
       "\t Northanger Abbey & remember         & 19               & 77780            & 482              & 0.0002442787    \\\\\n",
       "\t Northanger Abbey & saying           & 19               & 77780            & 483              & 0.0002442787    \\\\\n",
       "\t Northanger Abbey & second           & 19               & 77780            & 484              & 0.0002442787    \\\\\n",
       "\t Northanger Abbey & smile            & 19               & 77780            & 485              & 0.0002442787    \\\\\n",
       "\t Northanger Abbey & sudden           & 19               & 77780            & 486              & 0.0002442787    \\\\\n",
       "\t Northanger Abbey & talk             & 19               & 77780            & 487              & 0.0002442787    \\\\\n",
       "\t Northanger Abbey & thinking         & 19               & 77780            & 488              & 0.0002442787    \\\\\n",
       "\t Northanger Abbey & visit            & 19               & 77780            & 489              & 0.0002442787    \\\\\n",
       "\t Northanger Abbey & voice            & 19               & 77780            & 490              & 0.0002442787    \\\\\n",
       "\t Northanger Abbey & wishes           & 19               & 77780            & 491              & 0.0002442787    \\\\\n",
       "\t Northanger Abbey & asked            & 18               & 77780            & 492              & 0.0002314220    \\\\\n",
       "\t Northanger Abbey & assure           & 18               & 77780            & 493              & 0.0002314220    \\\\\n",
       "\t Northanger Abbey & behind           & 18               & 77780            & 494              & 0.0002314220    \\\\\n",
       "\t Northanger Abbey & countenance      & 18               & 77780            & 495              & 0.0002314220    \\\\\n",
       "\t Northanger Abbey & fancy            & 18               & 77780            & 496              & 0.0002314220    \\\\\n",
       "\t Northanger Abbey & finding          & 18               & 77780            & 497              & 0.0002314220    \\\\\n",
       "\t Northanger Abbey & forward          & 18               & 77780            & 498              & 0.0002314220    \\\\\n",
       "\t Northanger Abbey & friendship       & 18               & 77780            & 499              & 0.0002314220    \\\\\n",
       "\\end{tabular}\n"
      ],
      "text/markdown": [
       "\n",
       "| book | word | n | total | rank | term frequency |\n",
       "|---|---|---|---|---|---|\n",
       "| Mansfield Park      | she                 | 2246                | 160460              | 11                  | 0.013997258         |\n",
       "| Emma                | in                  | 2189                | 160996              | 11                  | 0.013596611         |\n",
       "| Emma                | not                 | 2140                | 160996              | 12                  | 0.013292256         |\n",
       "| Emma                | you                 | 1980                | 160996              | 13                  | 0.012298442         |\n",
       "| Emma                | be                  | 1975                | 160996              | 14                  | 0.012267386         |\n",
       "| Mansfield Park      | be                  | 1904                | 160460              | 12                  | 0.011865886         |\n",
       "| Mansfield Park      | not                 | 1815                | 160460              | 13                  | 0.011311230         |\n",
       "| Emma                | he                  | 1806                | 160996              | 15                  | 0.011217670         |\n",
       "| Emma                | that                | 1788                | 160996              | 16                  | 0.011105866         |\n",
       "| Mansfield Park      | as                  | 1702                | 160460              | 14                  | 0.010607005         |\n",
       "| Mansfield Park      | had                 | 1637                | 160460              | 15                  | 0.010201919         |\n",
       "| Emma                | had                 | 1624                | 160996              | 17                  | 0.010087207         |\n",
       "| Mansfield Park      | that                | 1620                | 160460              | 16                  | 0.010095974         |\n",
       "| Sense & Sensibility | she                 | 1613                | 119957              | 11                  | 0.013446485         |\n",
       "| Mansfield Park      | you                 | 1588                | 160460              | 17                  | 0.009896547         |\n",
       "| Mansfield Park      | for                 | 1545                | 160460              | 18                  | 0.009628568         |\n",
       "| Mansfield Park      | he                  | 1543                | 160460              | 19                  | 0.009616104         |\n",
       "| Pride & Prejudice   | that                | 1541                | 122204              | 11                  | 0.012610062         |\n",
       "| Pride & Prejudice   | it                  | 1535                | 122204              | 12                  | 0.012560964         |\n",
       "| Emma                | but                 | 1441                | 160996              | 18                  | 0.008950533         |\n",
       "| Emma                | as                  | 1436                | 160996              | 19                  | 0.008919476         |\n",
       "| Pride & Prejudice   | not                 | 1421                | 122204              | 13                  | 0.011628097         |\n",
       "| Sense & Sensibility | that                | 1382                | 119957              | 12                  | 0.011520795         |\n",
       "| Emma                | for                 | 1347                | 160996              | 20                  | 0.008366667         |\n",
       "| Mansfield Park      | his                 | 1339                | 160460              | 20                  | 0.008344759         |\n",
       "| Mansfield Park      | with                | 1337                | 160460              | 21                  | 0.008332295         |\n",
       "| Pride & Prejudice   | you                 | 1326                | 122204              | 14                  | 0.010850709         |\n",
       "| Pride & Prejudice   | he                  | 1324                | 122204              | 15                  | 0.010834343         |\n",
       "| Emma                | have                | 1320                | 160996              | 21                  | 0.008198961         |\n",
       "| Sense & Sensibility | be                  | 1299                | 119957              | 13                  | 0.010828880         |\n",
       "| ... | ... | ... | ... | ... | ... |\n",
       "| Northanger Abbey | air              | 19               | 77780            | 470              | 0.0002442787     |\n",
       "| Northanger Abbey | anxious          | 19               | 77780            | 471              | 0.0002442787     |\n",
       "| Northanger Abbey | arm              | 19               | 77780            | 472              | 0.0002442787     |\n",
       "| Northanger Abbey | aware            | 19               | 77780            | 473              | 0.0002442787     |\n",
       "| Northanger Abbey | believed         | 19               | 77780            | 474              | 0.0002442787     |\n",
       "| Northanger Abbey | breakfast        | 19               | 77780            | 475              | 0.0002442787     |\n",
       "| Northanger Abbey | determined       | 19               | 77780            | 476              | 0.0002442787     |\n",
       "| Northanger Abbey | doing            | 19               | 77780            | 477              | 0.0002442787     |\n",
       "| Northanger Abbey | equal            | 19               | 77780            | 478              | 0.0002442787     |\n",
       "| Northanger Abbey | equally          | 19               | 77780            | 479              | 0.0002442787     |\n",
       "| Northanger Abbey | fond             | 19               | 77780            | 480              | 0.0002442787     |\n",
       "| Northanger Abbey | money            | 19               | 77780            | 481              | 0.0002442787     |\n",
       "| Northanger Abbey | remember         | 19               | 77780            | 482              | 0.0002442787     |\n",
       "| Northanger Abbey | saying           | 19               | 77780            | 483              | 0.0002442787     |\n",
       "| Northanger Abbey | second           | 19               | 77780            | 484              | 0.0002442787     |\n",
       "| Northanger Abbey | smile            | 19               | 77780            | 485              | 0.0002442787     |\n",
       "| Northanger Abbey | sudden           | 19               | 77780            | 486              | 0.0002442787     |\n",
       "| Northanger Abbey | talk             | 19               | 77780            | 487              | 0.0002442787     |\n",
       "| Northanger Abbey | thinking         | 19               | 77780            | 488              | 0.0002442787     |\n",
       "| Northanger Abbey | visit            | 19               | 77780            | 489              | 0.0002442787     |\n",
       "| Northanger Abbey | voice            | 19               | 77780            | 490              | 0.0002442787     |\n",
       "| Northanger Abbey | wishes           | 19               | 77780            | 491              | 0.0002442787     |\n",
       "| Northanger Abbey | asked            | 18               | 77780            | 492              | 0.0002314220     |\n",
       "| Northanger Abbey | assure           | 18               | 77780            | 493              | 0.0002314220     |\n",
       "| Northanger Abbey | behind           | 18               | 77780            | 494              | 0.0002314220     |\n",
       "| Northanger Abbey | countenance      | 18               | 77780            | 495              | 0.0002314220     |\n",
       "| Northanger Abbey | fancy            | 18               | 77780            | 496              | 0.0002314220     |\n",
       "| Northanger Abbey | finding          | 18               | 77780            | 497              | 0.0002314220     |\n",
       "| Northanger Abbey | forward          | 18               | 77780            | 498              | 0.0002314220     |\n",
       "| Northanger Abbey | friendship       | 18               | 77780            | 499              | 0.0002314220     |\n",
       "\n"
      ],
      "text/plain": [
       "     book                word        n    total  rank term frequency\n",
       "1    Mansfield Park      she         2246 160460 11   0.013997258   \n",
       "2    Emma                in          2189 160996 11   0.013596611   \n",
       "3    Emma                not         2140 160996 12   0.013292256   \n",
       "4    Emma                you         1980 160996 13   0.012298442   \n",
       "5    Emma                be          1975 160996 14   0.012267386   \n",
       "6    Mansfield Park      be          1904 160460 12   0.011865886   \n",
       "7    Mansfield Park      not         1815 160460 13   0.011311230   \n",
       "8    Emma                he          1806 160996 15   0.011217670   \n",
       "9    Emma                that        1788 160996 16   0.011105866   \n",
       "10   Mansfield Park      as          1702 160460 14   0.010607005   \n",
       "11   Mansfield Park      had         1637 160460 15   0.010201919   \n",
       "12   Emma                had         1624 160996 17   0.010087207   \n",
       "13   Mansfield Park      that        1620 160460 16   0.010095974   \n",
       "14   Sense & Sensibility she         1613 119957 11   0.013446485   \n",
       "15   Mansfield Park      you         1588 160460 17   0.009896547   \n",
       "16   Mansfield Park      for         1545 160460 18   0.009628568   \n",
       "17   Mansfield Park      he          1543 160460 19   0.009616104   \n",
       "18   Pride & Prejudice   that        1541 122204 11   0.012610062   \n",
       "19   Pride & Prejudice   it          1535 122204 12   0.012560964   \n",
       "20   Emma                but         1441 160996 18   0.008950533   \n",
       "21   Emma                as          1436 160996 19   0.008919476   \n",
       "22   Pride & Prejudice   not         1421 122204 13   0.011628097   \n",
       "23   Sense & Sensibility that        1382 119957 12   0.011520795   \n",
       "24   Emma                for         1347 160996 20   0.008366667   \n",
       "25   Mansfield Park      his         1339 160460 20   0.008344759   \n",
       "26   Mansfield Park      with        1337 160460 21   0.008332295   \n",
       "27   Pride & Prejudice   you         1326 122204 14   0.010850709   \n",
       "28   Pride & Prejudice   he          1324 122204 15   0.010834343   \n",
       "29   Emma                have        1320 160996 21   0.008198961   \n",
       "30   Sense & Sensibility be          1299 119957 13   0.010828880   \n",
       "...  ...                 ...         ...  ...    ...  ...           \n",
       "2905 Northanger Abbey    air         19   77780  470  0.0002442787  \n",
       "2906 Northanger Abbey    anxious     19   77780  471  0.0002442787  \n",
       "2907 Northanger Abbey    arm         19   77780  472  0.0002442787  \n",
       "2908 Northanger Abbey    aware       19   77780  473  0.0002442787  \n",
       "2909 Northanger Abbey    believed    19   77780  474  0.0002442787  \n",
       "2910 Northanger Abbey    breakfast   19   77780  475  0.0002442787  \n",
       "2911 Northanger Abbey    determined  19   77780  476  0.0002442787  \n",
       "2912 Northanger Abbey    doing       19   77780  477  0.0002442787  \n",
       "2913 Northanger Abbey    equal       19   77780  478  0.0002442787  \n",
       "2914 Northanger Abbey    equally     19   77780  479  0.0002442787  \n",
       "2915 Northanger Abbey    fond        19   77780  480  0.0002442787  \n",
       "2916 Northanger Abbey    money       19   77780  481  0.0002442787  \n",
       "2917 Northanger Abbey    remember    19   77780  482  0.0002442787  \n",
       "2918 Northanger Abbey    saying      19   77780  483  0.0002442787  \n",
       "2919 Northanger Abbey    second      19   77780  484  0.0002442787  \n",
       "2920 Northanger Abbey    smile       19   77780  485  0.0002442787  \n",
       "2921 Northanger Abbey    sudden      19   77780  486  0.0002442787  \n",
       "2922 Northanger Abbey    talk        19   77780  487  0.0002442787  \n",
       "2923 Northanger Abbey    thinking    19   77780  488  0.0002442787  \n",
       "2924 Northanger Abbey    visit       19   77780  489  0.0002442787  \n",
       "2925 Northanger Abbey    voice       19   77780  490  0.0002442787  \n",
       "2926 Northanger Abbey    wishes      19   77780  491  0.0002442787  \n",
       "2927 Northanger Abbey    asked       18   77780  492  0.0002314220  \n",
       "2928 Northanger Abbey    assure      18   77780  493  0.0002314220  \n",
       "2929 Northanger Abbey    behind      18   77780  494  0.0002314220  \n",
       "2930 Northanger Abbey    countenance 18   77780  495  0.0002314220  \n",
       "2931 Northanger Abbey    fancy       18   77780  496  0.0002314220  \n",
       "2932 Northanger Abbey    finding     18   77780  497  0.0002314220  \n",
       "2933 Northanger Abbey    forward     18   77780  498  0.0002314220  \n",
       "2934 Northanger Abbey    friendship  18   77780  499  0.0002314220  "
      ]
     },
     "metadata": {},
     "output_type": "display_data"
    }
   ],
   "source": [
    "rank_subset <- freq_by_rank %>% \n",
    "  filter(rank < 500,\n",
    "         rank > 10)\n",
    "\n",
    "rank_subset"
   ]
  },
  {
   "cell_type": "code",
   "execution_count": 11,
   "metadata": {},
   "outputs": [
    {
     "data": {
      "text/plain": [
       "\n",
       "Call:\n",
       "lm(formula = log10(`term frequency`) ~ log10(rank), data = rank_subset)\n",
       "\n",
       "Coefficients:\n",
       "(Intercept)  log10(rank)  \n",
       "    -0.6226      -1.1125  \n"
      ]
     },
     "metadata": {},
     "output_type": "display_data"
    }
   ],
   "source": [
    "lm(log10(`term frequency`) ~ log10(rank), data = rank_subset)"
   ]
  },
  {
   "cell_type": "markdown",
   "metadata": {},
   "source": [
    "- lm() : linear regression의 핵심으로 회귀분석, 단일 계층 분석, 공분산 분석에 이용할 수 있습니다.\n",
    "- 지프의 법칙에서 frequency와 rank는 반비례 관계임을 확인할 수 있습니다.\n",
    "- 기울기 또한 -1.11이므로 -1에 가까운 기울기를 얻었습니다.\n",
    "- 이 직선을 위 그래프에다가 넣어보면 다음과 같습니다."
   ]
  },
  {
   "cell_type": "markdown",
   "metadata": {},
   "source": [
    "lm을 통해 얻은 식 긋기"
   ]
  },
  {
   "cell_type": "code",
   "execution_count": 12,
   "metadata": {
    "scrolled": false
   },
   "outputs": [
    {
     "data": {
      "image/png": "[encoded data removed]",
      "text/plain": [
       "plot without title"
      ]
     },
     "metadata": {},
     "output_type": "display_data"
    }
   ],
   "source": [
    "freq_by_rank %>% \n",
    "  ggplot(aes(rank, `term frequency`, color = book)) + \n",
    "  geom_abline(intercept = -0.62, slope = -1.1, \n",
    "              color = \"gray50\", linetype = 2) +\n",
    "  geom_line(size = 1.1, alpha = 0.8, show.legend = FALSE) + \n",
    "  scale_x_log10() +\n",
    "  scale_y_log10()"
   ]
  },
  {
   "cell_type": "markdown",
   "metadata": {},
   "source": [
    "- geom_abline : 기울기, 절편을 설정하여 선을 그릴 수 있는 옵션입니다.\n",
    "- 단일 거듭 제곱 법칙으로 예측되는 것보다 적은 수의 희귀 단어가 포함됩니다.\n",
    "- Jane Austen은 많은 언어 모음보다 가장 일반적인 단어의 낮은 비율을 사용합니다.\n",
    "- tidy text 원칙을 사용하여 간단히 구현할 수 있습니다."
   ]
  },
  {
   "cell_type": "markdown",
   "metadata": {},
   "source": [
    "### 3.3 The bind_tf_idf() Function\n",
    "\n",
    "- Jane Austen 소설에서 중요하지만 너무 일반적이지 않는 단어를 찾으려고 합니다.\n",
    "- tidytext 패키지의 bind_tf_idf() 함수는 문서당 term 하나의 행이 있는 tidy text 데이터를 사용합니다."
   ]
  },
  {
   "cell_type": "markdown",
   "metadata": {},
   "source": [
    "bind_tf_idf 함수 이용하기"
   ]
  },
  {
   "cell_type": "code",
   "execution_count": 13,
   "metadata": {},
   "outputs": [
    {
     "data": {
      "text/html": [
       "<table>\n",
       "<thead><tr><th scope=col>book</th><th scope=col>word</th><th scope=col>n</th><th scope=col>total</th><th scope=col>tf</th><th scope=col>idf</th><th scope=col>tf_idf</th></tr></thead>\n",
       "<tbody>\n",
       "\t<tr><td>Mansfield Park   </td><td>the              </td><td>6206             </td><td>160460           </td><td>0.03867631       </td><td>0                </td><td>0                </td></tr>\n",
       "\t<tr><td>Mansfield Park   </td><td>to               </td><td>5475             </td><td>160460           </td><td>0.03412065       </td><td>0                </td><td>0                </td></tr>\n",
       "\t<tr><td>Mansfield Park   </td><td>and              </td><td>5438             </td><td>160460           </td><td>0.03389007       </td><td>0                </td><td>0                </td></tr>\n",
       "\t<tr><td>Emma             </td><td>to               </td><td>5239             </td><td>160996           </td><td>0.03254118       </td><td>0                </td><td>0                </td></tr>\n",
       "\t<tr><td>Emma             </td><td>the              </td><td>5201             </td><td>160996           </td><td>0.03230515       </td><td>0                </td><td>0                </td></tr>\n",
       "\t<tr><td>Emma             </td><td>and              </td><td>4896             </td><td>160996           </td><td>0.03041069       </td><td>0                </td><td>0                </td></tr>\n",
       "\t<tr><td>Mansfield Park   </td><td>of               </td><td>4778             </td><td>160460           </td><td>0.02977689       </td><td>0                </td><td>0                </td></tr>\n",
       "\t<tr><td>Pride &amp; Prejudice</td><td>the                  </td><td>4331                 </td><td>122204               </td><td>0.03544074           </td><td>0                    </td><td>0                    </td></tr>\n",
       "\t<tr><td>Emma             </td><td>of               </td><td>4291             </td><td>160996           </td><td>0.02665284       </td><td>0                </td><td>0                </td></tr>\n",
       "\t<tr><td>Pride &amp; Prejudice</td><td>to                   </td><td>4162                 </td><td>122204               </td><td>0.03405780           </td><td>0                    </td><td>0                    </td></tr>\n",
       "</tbody>\n",
       "</table>\n"
      ],
      "text/latex": [
       "\\begin{tabular}{r|lllllll}\n",
       " book & word & n & total & tf & idf & tf\\_idf\\\\\n",
       "\\hline\n",
       "\t Mansfield Park    & the               & 6206              & 160460            & 0.03867631        & 0                 & 0                \\\\\n",
       "\t Mansfield Park    & to                & 5475              & 160460            & 0.03412065        & 0                 & 0                \\\\\n",
       "\t Mansfield Park    & and               & 5438              & 160460            & 0.03389007        & 0                 & 0                \\\\\n",
       "\t Emma              & to                & 5239              & 160996            & 0.03254118        & 0                 & 0                \\\\\n",
       "\t Emma              & the               & 5201              & 160996            & 0.03230515        & 0                 & 0                \\\\\n",
       "\t Emma              & and               & 4896              & 160996            & 0.03041069        & 0                 & 0                \\\\\n",
       "\t Mansfield Park    & of                & 4778              & 160460            & 0.02977689        & 0                 & 0                \\\\\n",
       "\t Pride \\& Prejudice & the                 & 4331                & 122204              & 0.03544074          & 0                   & 0                  \\\\\n",
       "\t Emma              & of                & 4291              & 160996            & 0.02665284        & 0                 & 0                \\\\\n",
       "\t Pride \\& Prejudice & to                  & 4162                & 122204              & 0.03405780          & 0                   & 0                  \\\\\n",
       "\\end{tabular}\n"
      ],
      "text/markdown": [
       "\n",
       "| book | word | n | total | tf | idf | tf_idf |\n",
       "|---|---|---|---|---|---|---|\n",
       "| Mansfield Park    | the               | 6206              | 160460            | 0.03867631        | 0                 | 0                 |\n",
       "| Mansfield Park    | to                | 5475              | 160460            | 0.03412065        | 0                 | 0                 |\n",
       "| Mansfield Park    | and               | 5438              | 160460            | 0.03389007        | 0                 | 0                 |\n",
       "| Emma              | to                | 5239              | 160996            | 0.03254118        | 0                 | 0                 |\n",
       "| Emma              | the               | 5201              | 160996            | 0.03230515        | 0                 | 0                 |\n",
       "| Emma              | and               | 4896              | 160996            | 0.03041069        | 0                 | 0                 |\n",
       "| Mansfield Park    | of                | 4778              | 160460            | 0.02977689        | 0                 | 0                 |\n",
       "| Pride & Prejudice | the               | 4331              | 122204            | 0.03544074        | 0                 | 0                 |\n",
       "| Emma              | of                | 4291              | 160996            | 0.02665284        | 0                 | 0                 |\n",
       "| Pride & Prejudice | to                | 4162              | 122204            | 0.03405780        | 0                 | 0                 |\n",
       "\n"
      ],
      "text/plain": [
       "   book              word n    total  tf         idf tf_idf\n",
       "1  Mansfield Park    the  6206 160460 0.03867631 0   0     \n",
       "2  Mansfield Park    to   5475 160460 0.03412065 0   0     \n",
       "3  Mansfield Park    and  5438 160460 0.03389007 0   0     \n",
       "4  Emma              to   5239 160996 0.03254118 0   0     \n",
       "5  Emma              the  5201 160996 0.03230515 0   0     \n",
       "6  Emma              and  4896 160996 0.03041069 0   0     \n",
       "7  Mansfield Park    of   4778 160460 0.02977689 0   0     \n",
       "8  Pride & Prejudice the  4331 122204 0.03544074 0   0     \n",
       "9  Emma              of   4291 160996 0.02665284 0   0     \n",
       "10 Pride & Prejudice to   4162 122204 0.03405780 0   0     "
      ]
     },
     "metadata": {},
     "output_type": "display_data"
    }
   ],
   "source": [
    "book_tf_idf <- book_words %>%\n",
    "  bind_tf_idf(word, book, n)\n",
    "\n",
    "head(book_tf_idf, n=10)"
   ]
  },
  {
   "cell_type": "markdown",
   "metadata": {},
   "source": [
    "- 일반적으로 사용되는 단어들은 idf가 0이기 때문에 tf-idf를 계산해도 0이 나옵니다."
   ]
  },
  {
   "cell_type": "markdown",
   "metadata": {},
   "source": [
    "필요한 변수 추출"
   ]
  },
  {
   "cell_type": "code",
   "execution_count": 15,
   "metadata": {},
   "outputs": [
    {
     "name": "stderr",
     "output_type": "stream",
     "text": [
      "Selecting by tf_idf\n"
     ]
    },
    {
     "data": {
      "text/html": [
       "<table>\n",
       "<thead><tr><th scope=col>book</th><th scope=col>word</th><th scope=col>n</th><th scope=col>tf</th><th scope=col>idf</th><th scope=col>tf_idf</th></tr></thead>\n",
       "<tbody>\n",
       "\t<tr><td>Sense &amp; Sensibility                          </td><td><span style=white-space:pre-wrap>elinor   </span></td><td>623                                              </td><td>0.005193528                                      </td><td>1.791759                                         </td><td>0.009305552                                      </td></tr>\n",
       "\t<tr><td>Sense &amp; Sensibility</td><td>marianne               </td><td>492                    </td><td>0.004101470            </td><td>1.791759               </td><td>0.007348847            </td></tr>\n",
       "\t<tr><td>Mansfield Park     </td><td>crawford           </td><td>493                </td><td>0.003072417        </td><td>1.791759           </td><td>0.005505032        </td></tr>\n",
       "\t<tr><td><span style=white-space:pre-wrap>Pride &amp; Prejudice  </span></td><td><span style=white-space:pre-wrap>darcy    </span>              </td><td>373                                                            </td><td>0.003052273                                                    </td><td>1.791759                                                       </td><td>0.005468939                                                    </td></tr>\n",
       "\t<tr><td>Persuasion         </td><td>elliot             </td><td>254                </td><td>0.003036171        </td><td>1.791759           </td><td>0.005440088        </td></tr>\n",
       "\t<tr><td>Emma               </td><td>emma               </td><td>786                </td><td>0.004882109        </td><td>1.098612           </td><td>0.005363545        </td></tr>\n",
       "\t<tr><td>Northanger Abbey   </td><td>tilney             </td><td>196                </td><td>0.002519928        </td><td>1.791759           </td><td>0.004515105        </td></tr>\n",
       "\t<tr><td>Emma               </td><td>weston             </td><td>389                </td><td>0.002416209        </td><td>1.791759           </td><td>0.004329266        </td></tr>\n",
       "\t<tr><td><span style=white-space:pre-wrap>Pride &amp; Prejudice  </span></td><td><span style=white-space:pre-wrap>bennet   </span>              </td><td>294                                                            </td><td>0.002405813                                                    </td><td>1.791759                                                       </td><td>0.004310639                                                    </td></tr>\n",
       "\t<tr><td>Persuasion         </td><td>wentworth          </td><td>191                </td><td>0.002283105        </td><td>1.791759           </td><td>0.004090775        </td></tr>\n",
       "</tbody>\n",
       "</table>\n"
      ],
      "text/latex": [
       "\\begin{tabular}{r|llllll}\n",
       " book & word & n & tf & idf & tf\\_idf\\\\\n",
       "\\hline\n",
       "\t Sense \\& Sensibility & elinor                & 623                   & 0.005193528           & 1.791759              & 0.009305552          \\\\\n",
       "\t Sense \\& Sensibility & marianne              & 492                   & 0.004101470           & 1.791759              & 0.007348847          \\\\\n",
       "\t Mansfield Park      & crawford            & 493                 & 0.003072417         & 1.791759            & 0.005505032        \\\\\n",
       "\t Pride \\& Prejudice   & darcy                 & 373                   & 0.003052273           & 1.791759              & 0.005468939          \\\\\n",
       "\t Persuasion          & elliot              & 254                 & 0.003036171         & 1.791759            & 0.005440088        \\\\\n",
       "\t Emma                & emma                & 786                 & 0.004882109         & 1.098612            & 0.005363545        \\\\\n",
       "\t Northanger Abbey    & tilney              & 196                 & 0.002519928         & 1.791759            & 0.004515105        \\\\\n",
       "\t Emma                & weston              & 389                 & 0.002416209         & 1.791759            & 0.004329266        \\\\\n",
       "\t Pride \\& Prejudice   & bennet                & 294                   & 0.002405813           & 1.791759              & 0.004310639          \\\\\n",
       "\t Persuasion          & wentworth           & 191                 & 0.002283105         & 1.791759            & 0.004090775        \\\\\n",
       "\\end{tabular}\n"
      ],
      "text/markdown": [
       "\n",
       "| book | word | n | tf | idf | tf_idf |\n",
       "|---|---|---|---|---|---|\n",
       "| Sense & Sensibility | elinor              | 623                 | 0.005193528         | 1.791759            | 0.009305552         |\n",
       "| Sense & Sensibility | marianne            | 492                 | 0.004101470         | 1.791759            | 0.007348847         |\n",
       "| Mansfield Park      | crawford            | 493                 | 0.003072417         | 1.791759            | 0.005505032         |\n",
       "| Pride & Prejudice   | darcy               | 373                 | 0.003052273         | 1.791759            | 0.005468939         |\n",
       "| Persuasion          | elliot              | 254                 | 0.003036171         | 1.791759            | 0.005440088         |\n",
       "| Emma                | emma                | 786                 | 0.004882109         | 1.098612            | 0.005363545         |\n",
       "| Northanger Abbey    | tilney              | 196                 | 0.002519928         | 1.791759            | 0.004515105         |\n",
       "| Emma                | weston              | 389                 | 0.002416209         | 1.791759            | 0.004329266         |\n",
       "| Pride & Prejudice   | bennet              | 294                 | 0.002405813         | 1.791759            | 0.004310639         |\n",
       "| Persuasion          | wentworth           | 191                 | 0.002283105         | 1.791759            | 0.004090775         |\n",
       "\n"
      ],
      "text/plain": [
       "   book                word      n   tf          idf      tf_idf     \n",
       "1  Sense & Sensibility elinor    623 0.005193528 1.791759 0.009305552\n",
       "2  Sense & Sensibility marianne  492 0.004101470 1.791759 0.007348847\n",
       "3  Mansfield Park      crawford  493 0.003072417 1.791759 0.005505032\n",
       "4  Pride & Prejudice   darcy     373 0.003052273 1.791759 0.005468939\n",
       "5  Persuasion          elliot    254 0.003036171 1.791759 0.005440088\n",
       "6  Emma                emma      786 0.004882109 1.098612 0.005363545\n",
       "7  Northanger Abbey    tilney    196 0.002519928 1.791759 0.004515105\n",
       "8  Emma                weston    389 0.002416209 1.791759 0.004329266\n",
       "9  Pride & Prejudice   bennet    294 0.002405813 1.791759 0.004310639\n",
       "10 Persuasion          wentworth 191 0.002283105 1.791759 0.004090775"
      ]
     },
     "metadata": {},
     "output_type": "display_data"
    }
   ],
   "source": [
    "filter(book_tf_idf %>%\n",
    "  select(-total) %>%\n",
    "  arrange(desc(tf_idf)) %>% top_n(10))"
   ]
  },
  {
   "cell_type": "markdown",
   "metadata": {},
   "source": [
    "- select : 필요한 변수 추출, 이때 -가 앞에 붙어지면 이 변수만 제외하겠다는 의미\n",
    "- arrange : 순서대로 정렬하기, desc는 내림차순"
   ]
  },
  {
   "cell_type": "markdown",
   "metadata": {},
   "source": [
    "시각화"
   ]
  },
  {
   "cell_type": "code",
   "execution_count": 16,
   "metadata": {},
   "outputs": [
    {
     "name": "stderr",
     "output_type": "stream",
     "text": [
      "Warning message:\n",
      "\"package 'forcats' was built under R version 3.6.3\""
     ]
    },
    {
     "data": {
      "image/png": "[encoded data removed]",
      "text/plain": [
       "plot without title"
      ]
     },
     "metadata": {},
     "output_type": "display_data"
    }
   ],
   "source": [
    "library(forcats)\n",
    "\n",
    "book_tf_idf %>%\n",
    "  group_by(book) %>%\n",
    "  slice_max(tf_idf, n = 15) %>%\n",
    "  ungroup() %>%\n",
    "  ggplot(aes(tf_idf, fct_reorder(word, tf_idf), fill = book)) +\n",
    "  geom_col(show.legend = FALSE) +\n",
    "  facet_wrap(~book, ncol = 2, scales = \"free\") +\n",
    "  labs(x = \"tf-idf\", y = NULL)"
   ]
  },
  {
   "cell_type": "markdown",
   "metadata": {},
   "source": [
    "- tf-idf로 측정한 단어들은 각 소설에서 가장 중요한 부분입니다.\n",
    "- 살펴보면 6편의 소설에서 비슷한 용어를 사용했으며 작품에서 나머지 소설과 구분하는 것은 **고유 명사, 사람과 장소의 이름**입니다.\n",
    "- tf-idf의 요점은 문서 모음 내에서 하나의 문서에 중요한 단어를 식별한다는 것입니다."
   ]
  },
  {
   "cell_type": "markdown",
   "metadata": {},
   "source": [
    "### 3.4 A corpus of physics texts"
   ]
  },
  {
   "cell_type": "markdown",
   "metadata": {},
   "source": [
    "- 어떤 용어가 중요한지 다시 한 번 알아보기 위해서 다른 문서 말뭉치를 사용합니다.\n",
    "- **Project Gutenberg**에서 물리학의 고전 교재 다운로드 후 tf-idf로 중요한 용어를 측정해보겠습니다.\n",
    "\n",
    "- 책 본문이랑 똑같이 하면 에러가 납니다. 지원을 안해준다고 합니다. 따라서 밑의 코드처럼 실행해줍니다."
   ]
  },
  {
   "cell_type": "code",
   "execution_count": 2,
   "metadata": {},
   "outputs": [
    {
     "name": "stderr",
     "output_type": "stream",
     "text": [
      "Determining mirror for Project Gutenberg from http://www.gutenberg.org/robot/harvest\n",
      "Using mirror http://aleph.gutenberg.org\n"
     ]
    }
   ],
   "source": [
    "library(gutenbergr)\n",
    "wuthering_heights <- gutenberg_download(768, mirror = \"http://mirrors.xmission.com/gutenberg/\")\n",
    "\n",
    "physics <- gutenberg_download(c(37729, 14725, 13476, 30155),    # physics 변수 생성\n",
    "                              meta_fields = \"author\")"
   ]
  },
  {
   "cell_type": "code",
   "execution_count": 6,
   "metadata": {},
   "outputs": [
    {
     "data": {
      "text/html": [
       "<table>\n",
       "<thead><tr><th scope=col>gutenberg_id</th><th scope=col>text</th><th scope=col>author</th></tr></thead>\n",
       "<tbody>\n",
       "\t<tr><td>13476                                                                     </td><td>EXPERIMENTS WITH ALTERNATE CURRENTS OF HIGH POTENTIAL AND HIGH FREQUENCY  </td><td>Tesla, Nikola                                                             </td></tr>\n",
       "\t<tr><td>13476                                                                     </td><td>                                                                          </td><td>Tesla, Nikola                                                             </td></tr>\n",
       "\t<tr><td>13476                                                                     </td><td>A Lecture Delivered before the Institution of Electrical Engineers, London</td><td>Tesla, Nikola                                                             </td></tr>\n",
       "\t<tr><td>13476                                                                     </td><td>                                                                          </td><td>Tesla, Nikola                                                             </td></tr>\n",
       "\t<tr><td>13476                                                                     </td><td>by                                                                        </td><td>Tesla, Nikola                                                             </td></tr>\n",
       "\t<tr><td>13476                                                                     </td><td>                                                                          </td><td>Tesla, Nikola                                                             </td></tr>\n",
       "\t<tr><td>13476                                                                     </td><td>NIKOLA TESLA                                                              </td><td>Tesla, Nikola                                                             </td></tr>\n",
       "\t<tr><td>13476                                                                     </td><td>                                                                          </td><td>Tesla, Nikola                                                             </td></tr>\n",
       "\t<tr><td>13476                                                                     </td><td>With a Portrait and Biographical Sketch of the Author                     </td><td>Tesla, Nikola                                                             </td></tr>\n",
       "\t<tr><td>13476                                                                     </td><td>                                                                          </td><td>Tesla, Nikola                                                             </td></tr>\n",
       "</tbody>\n",
       "</table>\n"
      ],
      "text/latex": [
       "\\begin{tabular}{r|lll}\n",
       " gutenberg\\_id & text & author\\\\\n",
       "\\hline\n",
       "\t 13476                                                                      & EXPERIMENTS WITH ALTERNATE CURRENTS OF HIGH POTENTIAL AND HIGH FREQUENCY   & Tesla, Nikola                                                             \\\\\n",
       "\t 13476                                                                      &                                                                            & Tesla, Nikola                                                             \\\\\n",
       "\t 13476                                                                      & A Lecture Delivered before the Institution of Electrical Engineers, London & Tesla, Nikola                                                             \\\\\n",
       "\t 13476                                                                      &                                                                            & Tesla, Nikola                                                             \\\\\n",
       "\t 13476                                                                      & by                                                                         & Tesla, Nikola                                                             \\\\\n",
       "\t 13476                                                                      &                                                                            & Tesla, Nikola                                                             \\\\\n",
       "\t 13476                                                                      & NIKOLA TESLA                                                               & Tesla, Nikola                                                             \\\\\n",
       "\t 13476                                                                      &                                                                            & Tesla, Nikola                                                             \\\\\n",
       "\t 13476                                                                      & With a Portrait and Biographical Sketch of the Author                      & Tesla, Nikola                                                             \\\\\n",
       "\t 13476                                                                      &                                                                            & Tesla, Nikola                                                             \\\\\n",
       "\\end{tabular}\n"
      ],
      "text/markdown": [
       "\n",
       "| gutenberg_id | text | author |\n",
       "|---|---|---|\n",
       "| 13476                                                                      | EXPERIMENTS WITH ALTERNATE CURRENTS OF HIGH POTENTIAL AND HIGH FREQUENCY   | Tesla, Nikola                                                              |\n",
       "| 13476                                                                      |                                                                            | Tesla, Nikola                                                              |\n",
       "| 13476                                                                      | A Lecture Delivered before the Institution of Electrical Engineers, London | Tesla, Nikola                                                              |\n",
       "| 13476                                                                      |                                                                            | Tesla, Nikola                                                              |\n",
       "| 13476                                                                      | by                                                                         | Tesla, Nikola                                                              |\n",
       "| 13476                                                                      |                                                                            | Tesla, Nikola                                                              |\n",
       "| 13476                                                                      | NIKOLA TESLA                                                               | Tesla, Nikola                                                              |\n",
       "| 13476                                                                      |                                                                            | Tesla, Nikola                                                              |\n",
       "| 13476                                                                      | With a Portrait and Biographical Sketch of the Author                      | Tesla, Nikola                                                              |\n",
       "| 13476                                                                      |                                                                            | Tesla, Nikola                                                              |\n",
       "\n"
      ],
      "text/plain": [
       "   gutenberg_id\n",
       "1  13476       \n",
       "2  13476       \n",
       "3  13476       \n",
       "4  13476       \n",
       "5  13476       \n",
       "6  13476       \n",
       "7  13476       \n",
       "8  13476       \n",
       "9  13476       \n",
       "10 13476       \n",
       "   text                                                                      \n",
       "1  EXPERIMENTS WITH ALTERNATE CURRENTS OF HIGH POTENTIAL AND HIGH FREQUENCY  \n",
       "2                                                                            \n",
       "3  A Lecture Delivered before the Institution of Electrical Engineers, London\n",
       "4                                                                            \n",
       "5  by                                                                        \n",
       "6                                                                            \n",
       "7  NIKOLA TESLA                                                              \n",
       "8                                                                            \n",
       "9  With a Portrait and Biographical Sketch of the Author                     \n",
       "10                                                                           \n",
       "   author       \n",
       "1  Tesla, Nikola\n",
       "2  Tesla, Nikola\n",
       "3  Tesla, Nikola\n",
       "4  Tesla, Nikola\n",
       "5  Tesla, Nikola\n",
       "6  Tesla, Nikola\n",
       "7  Tesla, Nikola\n",
       "8  Tesla, Nikola\n",
       "9  Tesla, Nikola\n",
       "10 Tesla, Nikola"
      ]
     },
     "metadata": {},
     "output_type": "display_data"
    }
   ],
   "source": [
    "head(physics, n=10)"
   ]
  },
  {
   "cell_type": "code",
   "execution_count": 7,
   "metadata": {},
   "outputs": [
    {
     "data": {
      "text/html": [
       "<table>\n",
       "<thead><tr><th scope=col>gutenberg_id</th><th scope=col>text</th><th scope=col>author</th></tr></thead>\n",
       "<tbody>\n",
       "\t<tr><td>37729                                                              </td><td>  Page 59, potential printer's error, sidenote ends with comma, 'Or</td><td>Galilei, Galileo                                                   </td></tr>\n",
       "\t<tr><td>37729                                                              </td><td>  rather Contiguity,'.                                             </td><td>Galilei, Galileo                                                   </td></tr>\n",
       "\t<tr><td>37729                                                              </td><td>                                                                   </td><td>Galilei, Galileo                                                   </td></tr>\n",
       "\t<tr><td>37729                                                              </td><td>  Page 61, missing letter a, 'that in this c{a}se the water,'.     </td><td>Galilei, Galileo                                                   </td></tr>\n",
       "\t<tr><td>37729                                                              </td><td>                                                                   </td><td>Galilei, Galileo                                                   </td></tr>\n",
       "\t<tr><td>37729                                                              </td><td>  Page 74, printer's error, ir for it, 'but if we do saw ir,'.     </td><td>Galilei, Galileo                                                   </td></tr>\n",
       "\t<tr><td>37729                                                              </td><td>                                                                   </td><td>Galilei, Galileo                                                   </td></tr>\n",
       "\t<tr><td>37729                                                                                                          </td><td><span style=white-space:pre-wrap>  Page 75, unclear symbol in original text '{&amp;}c. making seven     </span></td><td>Galilei, Galileo                                                                                               </td></tr>\n",
       "\t<tr><td>37729                                                              </td><td>  Segments'.                                                       </td><td>Galilei, Galileo                                                   </td></tr>\n",
       "\t<tr><td>37729                                                              </td><td>  ]                                                                </td><td>Galilei, Galileo                                                   </td></tr>\n",
       "</tbody>\n",
       "</table>\n"
      ],
      "text/latex": [
       "\\begin{tabular}{r|lll}\n",
       " gutenberg\\_id & text & author\\\\\n",
       "\\hline\n",
       "\t 37729                                                               &   Page 59, potential printer's error, sidenote ends with comma, 'Or & Galilei, Galileo                                                   \\\\\n",
       "\t 37729                                                               &   rather Contiguity,'.                                              & Galilei, Galileo                                                   \\\\\n",
       "\t 37729                                                               &                                                                     & Galilei, Galileo                                                   \\\\\n",
       "\t 37729                                                                   &   Page 61, missing letter a, 'that in this c\\{a\\}se the water,'.      & Galilei, Galileo                                                       \\\\\n",
       "\t 37729                                                               &                                                                     & Galilei, Galileo                                                   \\\\\n",
       "\t 37729                                                               &   Page 74, printer's error, ir for it, 'but if we do saw ir,'.      & Galilei, Galileo                                                   \\\\\n",
       "\t 37729                                                               &                                                                     & Galilei, Galileo                                                   \\\\\n",
       "\t 37729                                                                     &   Page 75, unclear symbol in original text '\\{\\&\\}c. making seven      & Galilei, Galileo                                                         \\\\\n",
       "\t 37729                                                               &   Segments'.                                                        & Galilei, Galileo                                                   \\\\\n",
       "\t 37729                                                                 &   {]}                                                                 & Galilei, Galileo                                                     \\\\\n",
       "\\end{tabular}\n"
      ],
      "text/markdown": [
       "\n",
       "| gutenberg_id | text | author |\n",
       "|---|---|---|\n",
       "| 37729                                                               |   Page 59, potential printer's error, sidenote ends with comma, 'Or | Galilei, Galileo                                                    |\n",
       "| 37729                                                               |   rather Contiguity,'.                                              | Galilei, Galileo                                                    |\n",
       "| 37729                                                               |                                                                     | Galilei, Galileo                                                    |\n",
       "| 37729                                                               |   Page 61, missing letter a, 'that in this c{a}se the water,'.      | Galilei, Galileo                                                    |\n",
       "| 37729                                                               |                                                                     | Galilei, Galileo                                                    |\n",
       "| 37729                                                               |   Page 74, printer's error, ir for it, 'but if we do saw ir,'.      | Galilei, Galileo                                                    |\n",
       "| 37729                                                               |                                                                     | Galilei, Galileo                                                    |\n",
       "| 37729                                                               |   Page 75, unclear symbol in original text '{&}c. making seven      | Galilei, Galileo                                                    |\n",
       "| 37729                                                               |   Segments'.                                                        | Galilei, Galileo                                                    |\n",
       "| 37729                                                               |   ]                                                                 | Galilei, Galileo                                                    |\n",
       "\n"
      ],
      "text/plain": [
       "   gutenberg_id\n",
       "1  37729       \n",
       "2  37729       \n",
       "3  37729       \n",
       "4  37729       \n",
       "5  37729       \n",
       "6  37729       \n",
       "7  37729       \n",
       "8  37729       \n",
       "9  37729       \n",
       "10 37729       \n",
       "   text                                                               \n",
       "1    Page 59, potential printer's error, sidenote ends with comma, 'Or\n",
       "2    rather Contiguity,'.                                             \n",
       "3                                                                     \n",
       "4    Page 61, missing letter a, 'that in this c{a}se the water,'.     \n",
       "5                                                                     \n",
       "6    Page 74, printer's error, ir for it, 'but if we do saw ir,'.     \n",
       "7                                                                     \n",
       "8    Page 75, unclear symbol in original text '{&}c. making seven     \n",
       "9    Segments'.                                                       \n",
       "10   ]                                                                \n",
       "   author          \n",
       "1  Galilei, Galileo\n",
       "2  Galilei, Galileo\n",
       "3  Galilei, Galileo\n",
       "4  Galilei, Galileo\n",
       "5  Galilei, Galileo\n",
       "6  Galilei, Galileo\n",
       "7  Galilei, Galileo\n",
       "8  Galilei, Galileo\n",
       "9  Galilei, Galileo\n",
       "10 Galilei, Galileo"
      ]
     },
     "metadata": {},
     "output_type": "display_data"
    }
   ],
   "source": [
    "tail(physics, n=10)"
   ]
  },
  {
   "cell_type": "markdown",
   "metadata": {},
   "source": [
    "-> gutenberg_id에 따라 잘 다운이 된 것을 확인할 수 있습니다."
   ]
  },
  {
   "cell_type": "markdown",
   "metadata": {},
   "source": [
    "text로 분리하고 count"
   ]
  },
  {
   "cell_type": "code",
   "execution_count": 11,
   "metadata": {},
   "outputs": [
    {
     "data": {
      "text/html": [
       "<table>\n",
       "<thead><tr><th scope=col>author</th><th scope=col>word</th><th scope=col>n</th></tr></thead>\n",
       "<tbody>\n",
       "\t<tr><td>Galilei, Galileo   </td><td>the                </td><td>3760               </td></tr>\n",
       "\t<tr><td>Tesla, Nikola      </td><td>the                </td><td>3604               </td></tr>\n",
       "\t<tr><td>Huygens, Christiaan</td><td>the                </td><td>3553               </td></tr>\n",
       "\t<tr><td>Einstein, Albert   </td><td>the                </td><td>2993               </td></tr>\n",
       "\t<tr><td>Galilei, Galileo   </td><td>of                 </td><td>2049               </td></tr>\n",
       "\t<tr><td>Einstein, Albert   </td><td>of                 </td><td>2028               </td></tr>\n",
       "\t<tr><td>Tesla, Nikola      </td><td>of                 </td><td>1737               </td></tr>\n",
       "\t<tr><td>Huygens, Christiaan</td><td>of                 </td><td>1708               </td></tr>\n",
       "\t<tr><td>Huygens, Christiaan</td><td>to                 </td><td>1207               </td></tr>\n",
       "\t<tr><td>Tesla, Nikola      </td><td>a                  </td><td>1176               </td></tr>\n",
       "\t<tr><td>Galilei, Galileo   </td><td>and                </td><td>1148               </td></tr>\n",
       "\t<tr><td>Galilei, Galileo   </td><td>to                 </td><td>1133               </td></tr>\n",
       "\t<tr><td>Galilei, Galileo   </td><td>that               </td><td>1104               </td></tr>\n",
       "\t<tr><td>Tesla, Nikola      </td><td>to                 </td><td>1087               </td></tr>\n",
       "\t<tr><td>Tesla, Nikola      </td><td>in                 </td><td> 986               </td></tr>\n",
       "</tbody>\n",
       "</table>\n"
      ],
      "text/latex": [
       "\\begin{tabular}{r|lll}\n",
       " author & word & n\\\\\n",
       "\\hline\n",
       "\t Galilei, Galileo    & the                 & 3760               \\\\\n",
       "\t Tesla, Nikola       & the                 & 3604               \\\\\n",
       "\t Huygens, Christiaan & the                 & 3553               \\\\\n",
       "\t Einstein, Albert    & the                 & 2993               \\\\\n",
       "\t Galilei, Galileo    & of                  & 2049               \\\\\n",
       "\t Einstein, Albert    & of                  & 2028               \\\\\n",
       "\t Tesla, Nikola       & of                  & 1737               \\\\\n",
       "\t Huygens, Christiaan & of                  & 1708               \\\\\n",
       "\t Huygens, Christiaan & to                  & 1207               \\\\\n",
       "\t Tesla, Nikola       & a                   & 1176               \\\\\n",
       "\t Galilei, Galileo    & and                 & 1148               \\\\\n",
       "\t Galilei, Galileo    & to                  & 1133               \\\\\n",
       "\t Galilei, Galileo    & that                & 1104               \\\\\n",
       "\t Tesla, Nikola       & to                  & 1087               \\\\\n",
       "\t Tesla, Nikola       & in                  &  986               \\\\\n",
       "\\end{tabular}\n"
      ],
      "text/markdown": [
       "\n",
       "| author | word | n |\n",
       "|---|---|---|\n",
       "| Galilei, Galileo    | the                 | 3760                |\n",
       "| Tesla, Nikola       | the                 | 3604                |\n",
       "| Huygens, Christiaan | the                 | 3553                |\n",
       "| Einstein, Albert    | the                 | 2993                |\n",
       "| Galilei, Galileo    | of                  | 2049                |\n",
       "| Einstein, Albert    | of                  | 2028                |\n",
       "| Tesla, Nikola       | of                  | 1737                |\n",
       "| Huygens, Christiaan | of                  | 1708                |\n",
       "| Huygens, Christiaan | to                  | 1207                |\n",
       "| Tesla, Nikola       | a                   | 1176                |\n",
       "| Galilei, Galileo    | and                 | 1148                |\n",
       "| Galilei, Galileo    | to                  | 1133                |\n",
       "| Galilei, Galileo    | that                | 1104                |\n",
       "| Tesla, Nikola       | to                  | 1087                |\n",
       "| Tesla, Nikola       | in                  |  986                |\n",
       "\n"
      ],
      "text/plain": [
       "   author              word n   \n",
       "1  Galilei, Galileo    the  3760\n",
       "2  Tesla, Nikola       the  3604\n",
       "3  Huygens, Christiaan the  3553\n",
       "4  Einstein, Albert    the  2993\n",
       "5  Galilei, Galileo    of   2049\n",
       "6  Einstein, Albert    of   2028\n",
       "7  Tesla, Nikola       of   1737\n",
       "8  Huygens, Christiaan of   1708\n",
       "9  Huygens, Christiaan to   1207\n",
       "10 Tesla, Nikola       a    1176\n",
       "11 Galilei, Galileo    and  1148\n",
       "12 Galilei, Galileo    to   1133\n",
       "13 Galilei, Galileo    that 1104\n",
       "14 Tesla, Nikola       to   1087\n",
       "15 Tesla, Nikola       in    986"
      ]
     },
     "metadata": {},
     "output_type": "display_data"
    }
   ],
   "source": [
    "library(dplyr)\n",
    "library(tidytext)\n",
    "physics_words <- physics %>%\n",
    "  unnest_tokens(word, text) %>%\n",
    "  count(author, word, sort = TRUE)\n",
    "\n",
    "head(physics_words, n=15)"
   ]
  },
  {
   "cell_type": "markdown",
   "metadata": {},
   "source": [
    "-> 각 텍스트에서 단어가 몇 번 사용되었는지 확인합니다."
   ]
  },
  {
   "cell_type": "markdown",
   "metadata": {},
   "source": [
    "작가별 tf-idf 단어 시각화"
   ]
  },
  {
   "cell_type": "code",
   "execution_count": 12,
   "metadata": {},
   "outputs": [],
   "source": [
    "plot_physics <- physics_words %>%\n",
    "  bind_tf_idf(word, author, n) %>%\n",
    "  mutate(author = factor(author, levels = c(\"Galilei, Galileo\",\n",
    "                                            \"Huygens, Christiaan\", \n",
    "                                            \"Tesla, Nikola\",\n",
    "                                            \"Einstein, Albert\")))"
   ]
  },
  {
   "cell_type": "code",
   "execution_count": 14,
   "metadata": {},
   "outputs": [
    {
     "data": {
      "image/png": "[encoded data removed]",
      "text/plain": [
       "plot without title"
      ]
     },
     "metadata": {},
     "output_type": "display_data"
    }
   ],
   "source": [
    "library(ggplot2)\n",
    "plot_physics %>% \n",
    "  group_by(author) %>% \n",
    "  slice_max(tf_idf, n = 15) %>% \n",
    "  ungroup() %>%\n",
    "  mutate(word = reorder(word, tf_idf)) %>%\n",
    "  ggplot(aes(tf_idf, word, fill = author)) +\n",
    "  geom_col(show.legend = FALSE) +\n",
    "  labs(x = \"tf-idf\", y = NULL) +\n",
    "  facet_wrap(~author, ncol = 2, scales = \"free\")"
   ]
  },
  {
   "cell_type": "markdown",
   "metadata": {},
   "source": [
    "- Einstein 그래프를 보시면 k가 있습니다.\n",
    "- 이는 아인슈타인 좌표계 이름을 의미합니다."
   ]
  },
  {
   "cell_type": "markdown",
   "metadata": {},
   "source": [
    "텍스트 청소"
   ]
  },
  {
   "cell_type": "markdown",
   "metadata": {},
   "source": [
    "- 이 단원에서는 필요없는 텍스트를 필터로 제거하는 작업을 하고 있습니다.\n",
    "- 이를 통해 더욱 유의미한 단어들을 추출하려는 것입니다."
   ]
  },
  {
   "cell_type": "code",
   "execution_count": 15,
   "metadata": {},
   "outputs": [
    {
     "name": "stderr",
     "output_type": "stream",
     "text": [
      "Warning message:\n",
      "\"package 'stringr' was built under R version 3.6.3\""
     ]
    },
    {
     "data": {
      "text/html": [
       "<table>\n",
       "<thead><tr><th scope=col>text</th></tr></thead>\n",
       "<tbody>\n",
       "\t<tr><td>surface AB at the points AK_k_B. Then instead of the hemispherical     </td></tr>\n",
       "\t<tr><td>would needs be that from all the other points K_k_B there should       </td></tr>\n",
       "\t<tr><td>necessarily be equal to CD, because C_k_ is equal to CK, and C_g_ to   </td></tr>\n",
       "\t<tr><td>the crystal at K_k_, all the points of the wave CO_oc_ will have       </td></tr>\n",
       "\t<tr><td>O_o_ has reached K_k_. Which is easy to comprehend, since, of these    </td></tr>\n",
       "\t<tr><td>CO_oc_ in the crystal, when O_o_ has arrived at K_k_, because it forms </td></tr>\n",
       "\t<tr><td>ρ is the average density of the matter and _k_ is a constant connected</td></tr>\n",
       "</tbody>\n",
       "</table>\n"
      ],
      "text/latex": [
       "\\begin{tabular}{r|l}\n",
       " text\\\\\n",
       "\\hline\n",
       "\t surface AB at the points AK\\_k\\_B. Then instead of the hemispherical     \\\\\n",
       "\t would needs be that from all the other points K\\_k\\_B there should       \\\\\n",
       "\t necessarily be equal to CD, because C\\_k\\_ is equal to CK, and C\\_g\\_ to   \\\\\n",
       "\t the crystal at K\\_k\\_, all the points of the wave CO\\_oc\\_ will have       \\\\\n",
       "\t O\\_o\\_ has reached K\\_k\\_. Which is easy to comprehend, since, of these    \\\\\n",
       "\t CO\\_oc\\_ in the crystal, when O\\_o\\_ has arrived at K\\_k\\_, because it forms \\\\\n",
       "\t ρ is the average density of the matter and \\_k\\_ is a constant connected\\\\\n",
       "\\end{tabular}\n"
      ],
      "text/markdown": [
       "\n",
       "| text |\n",
       "|---|\n",
       "| surface AB at the points AK_k_B. Then instead of the hemispherical      |\n",
       "| would needs be that from all the other points K_k_B there should        |\n",
       "| necessarily be equal to CD, because C_k_ is equal to CK, and C_g_ to    |\n",
       "| the crystal at K_k_, all the points of the wave CO_oc_ will have        |\n",
       "| O_o_ has reached K_k_. Which is easy to comprehend, since, of these     |\n",
       "| CO_oc_ in the crystal, when O_o_ has arrived at K_k_, because it forms  |\n",
       "| ρ is the average density of the matter and _k_ is a constant connected |\n",
       "\n"
      ],
      "text/plain": [
       "  text                                                                   \n",
       "1 surface AB at the points AK_k_B. Then instead of the hemispherical     \n",
       "2 would needs be that from all the other points K_k_B there should       \n",
       "3 necessarily be equal to CD, because C_k_ is equal to CK, and C_g_ to   \n",
       "4 the crystal at K_k_, all the points of the wave CO_oc_ will have       \n",
       "5 O_o_ has reached K_k_. Which is easy to comprehend, since, of these    \n",
       "6 CO_oc_ in the crystal, when O_o_ has arrived at K_k_, because it forms \n",
       "7 ρ is the average density of the matter and _k_ is a constant connected"
      ]
     },
     "metadata": {},
     "output_type": "display_data"
    }
   ],
   "source": [
    "library(stringr)\n",
    "\n",
    "physics %>% \n",
    "  filter(str_detect(text, \"_k_\")) %>% \n",
    "  select(text)"
   ]
  },
  {
   "cell_type": "code",
   "execution_count": 16,
   "metadata": {},
   "outputs": [
    {
     "data": {
      "text/html": [
       "<table>\n",
       "<thead><tr><th scope=col>text</th></tr></thead>\n",
       "<tbody>\n",
       "\t<tr><td>line RC, parallel and equal to AB, to be a portion of a wave of light,</td></tr>\n",
       "\t<tr><td>represents the partial wave coming from the point A, after the wave RC</td></tr>\n",
       "\t<tr><td>be the propagation of the wave RC which fell on AB, and would be the  </td></tr>\n",
       "\t<tr><td>transparent body; seeing that the wave RC, having come to the aperture</td></tr>\n",
       "\t<tr><td>incident rays. Let there be such a ray RC falling upon the surface    </td></tr>\n",
       "\t<tr><td>CK. Make CO perpendicular to RC, and across the angle KCO adjust OK,  </td></tr>\n",
       "\t<tr><td>the required refraction of the ray RC. The demonstration of this is,  </td></tr>\n",
       "\t<tr><td>explaining ordinary refraction. For the refraction of the ray RC is   </td></tr>\n",
       "\t<tr><td>29. Now as we have found CI the refraction of the ray RC, similarly   </td></tr>\n",
       "\t<tr><td>the ray _r_C is inclined equally with RC, the line C_d_ will          </td></tr>\n",
       "\t<tr><td>equally inclined, but coming from opposite sides, as here the rays RC,</td></tr>\n",
       "\t<tr><td>degrees 40 minutes. Now let there be some other ray RC, the refraction</td></tr>\n",
       "\t<tr><td>be described, cutting the ray RC at R; and let RV be the perpendicular</td></tr>\n",
       "\t<tr><td>this will be the required refraction of the ray RC. Which is          </td></tr>\n",
       "\t<tr><td>explained that CI is the refraction of the ray RC. Now since the angle</td></tr>\n",
       "\t<tr><td>RCO is a right angle, it is easy to see that the right-angled         </td></tr>\n",
       "\t<tr><td>triangles RCV, KCO, are similar. As then, CK is to KO, so also is RC  </td></tr>\n",
       "\t<tr><td>to CV. But KO is equal to N, and RC to CG: then as CK is to N so will </td></tr>\n",
       "\t<tr><td>the angle RCG of 73 degrees 20 minutes, inclining to the same side as </td></tr>\n",
       "\t<tr><td>will find that it makes exactly a straight line with RC, and that thus</td></tr>\n",
       "\t<tr><td>angle RCV 73 degrees 20 minutes, CV will be 28,330. But because CI is </td></tr>\n",
       "\t<tr><td>the refraction of the ray RC, the proportion of CV to CD is 156,962 to</td></tr>\n",
       "\t<tr><td>tangent of the complement of the angle RCV, which is 73 degrees 20    </td></tr>\n",
       "\t<tr><td>minutes, is to the radius of the Tables. Whence it appears that RCIT  </td></tr>\n",
       "\t<tr><td>in other transparent bodies; that is to say, that if a ray RC in      </td></tr>\n",
       "\t<tr><td>RC.                                                                   </td></tr>\n",
       "\t<tr><td>ray RC, since IB is equal to CK, and IA equal to KO, and the angles A </td></tr>\n",
       "\t<tr><td>plane AFHE, the incident ray RC; it is required to find its refraction</td></tr>\n",
       "\t<tr><td>I say that CI will be the required refraction of the ray RC. This will</td></tr>\n",
       "\t<tr><td>RC, as a portion of the wave of light, we can demonstrate that the    </td></tr>\n",
       "\t<tr><td>that is to say, that the ray RC is refracted as CI.                   </td></tr>\n",
       "\t<tr><td>which section there is also the ray RC, and let the semi-elliptic     </td></tr>\n",
       "\t<tr><td>refraction of the ray RC.                                             </td></tr>\n",
       "\t<tr><td>appear raised to S where the straight lines RC, _rc_, meet; which     </td></tr>\n",
       "\t<tr><td>should appear at S where the straight lines RC, _rc_, meet when       </td></tr>\n",
       "\t<tr><td>to be at S, in the perpendicular PD where the lines RC, _rc_, meet    </td></tr>\n",
       "\t<tr><td>RC, the refraction of which it is required to find.                   </td></tr>\n",
       "\t<tr><td>Let there be taken a plane passing through the ray RC and which is    </td></tr>\n",
       "\t<tr><td>straight line BCK; and having in the same plane through RC made CO    </td></tr>\n",
       "\t<tr><td>refraction of the ray RC, as is easy to deduce from that which has    </td></tr>\n",
       "\t<tr><td>the ray RC and through CK, is also given; from which it will be easy  </td></tr>\n",
       "\t<tr><td>RC.                                                                   </td></tr>\n",
       "\t<tr><td>refractions of any other ray which may be in the plane through RC and </td></tr>\n",
       "\t<tr><td>ALBERT EINSTEIN REFERENCE ARCHIVE                                     </td></tr>\n",
       "</tbody>\n",
       "</table>\n"
      ],
      "text/latex": [
       "\\begin{tabular}{r|l}\n",
       " text\\\\\n",
       "\\hline\n",
       "\t line RC, parallel and equal to AB, to be a portion of a wave of light,\\\\\n",
       "\t represents the partial wave coming from the point A, after the wave RC\\\\\n",
       "\t be the propagation of the wave RC which fell on AB, and would be the  \\\\\n",
       "\t transparent body; seeing that the wave RC, having come to the aperture\\\\\n",
       "\t incident rays. Let there be such a ray RC falling upon the surface    \\\\\n",
       "\t CK. Make CO perpendicular to RC, and across the angle KCO adjust OK,  \\\\\n",
       "\t the required refraction of the ray RC. The demonstration of this is,  \\\\\n",
       "\t explaining ordinary refraction. For the refraction of the ray RC is   \\\\\n",
       "\t 29. Now as we have found CI the refraction of the ray RC, similarly   \\\\\n",
       "\t the ray \\_r\\_C is inclined equally with RC, the line C\\_d\\_ will          \\\\\n",
       "\t equally inclined, but coming from opposite sides, as here the rays RC,\\\\\n",
       "\t degrees 40 minutes. Now let there be some other ray RC, the refraction\\\\\n",
       "\t be described, cutting the ray RC at R; and let RV be the perpendicular\\\\\n",
       "\t this will be the required refraction of the ray RC. Which is          \\\\\n",
       "\t explained that CI is the refraction of the ray RC. Now since the angle\\\\\n",
       "\t RCO is a right angle, it is easy to see that the right-angled         \\\\\n",
       "\t triangles RCV, KCO, are similar. As then, CK is to KO, so also is RC  \\\\\n",
       "\t to CV. But KO is equal to N, and RC to CG: then as CK is to N so will \\\\\n",
       "\t the angle RCG of 73 degrees 20 minutes, inclining to the same side as \\\\\n",
       "\t will find that it makes exactly a straight line with RC, and that thus\\\\\n",
       "\t angle RCV 73 degrees 20 minutes, CV will be 28,330. But because CI is \\\\\n",
       "\t the refraction of the ray RC, the proportion of CV to CD is 156,962 to\\\\\n",
       "\t tangent of the complement of the angle RCV, which is 73 degrees 20    \\\\\n",
       "\t minutes, is to the radius of the Tables. Whence it appears that RCIT  \\\\\n",
       "\t in other transparent bodies; that is to say, that if a ray RC in      \\\\\n",
       "\t RC.                                                                   \\\\\n",
       "\t ray RC, since IB is equal to CK, and IA equal to KO, and the angles A \\\\\n",
       "\t plane AFHE, the incident ray RC; it is required to find its refraction\\\\\n",
       "\t I say that CI will be the required refraction of the ray RC. This will\\\\\n",
       "\t RC, as a portion of the wave of light, we can demonstrate that the    \\\\\n",
       "\t that is to say, that the ray RC is refracted as CI.                   \\\\\n",
       "\t which section there is also the ray RC, and let the semi-elliptic     \\\\\n",
       "\t refraction of the ray RC.                                             \\\\\n",
       "\t appear raised to S where the straight lines RC, \\_rc\\_, meet; which     \\\\\n",
       "\t should appear at S where the straight lines RC, \\_rc\\_, meet when       \\\\\n",
       "\t to be at S, in the perpendicular PD where the lines RC, \\_rc\\_, meet    \\\\\n",
       "\t RC, the refraction of which it is required to find.                   \\\\\n",
       "\t Let there be taken a plane passing through the ray RC and which is    \\\\\n",
       "\t straight line BCK; and having in the same plane through RC made CO    \\\\\n",
       "\t refraction of the ray RC, as is easy to deduce from that which has    \\\\\n",
       "\t the ray RC and through CK, is also given; from which it will be easy  \\\\\n",
       "\t RC.                                                                   \\\\\n",
       "\t refractions of any other ray which may be in the plane through RC and \\\\\n",
       "\t ALBERT EINSTEIN REFERENCE ARCHIVE                                     \\\\\n",
       "\\end{tabular}\n"
      ],
      "text/markdown": [
       "\n",
       "| text |\n",
       "|---|\n",
       "| line RC, parallel and equal to AB, to be a portion of a wave of light, |\n",
       "| represents the partial wave coming from the point A, after the wave RC |\n",
       "| be the propagation of the wave RC which fell on AB, and would be the   |\n",
       "| transparent body; seeing that the wave RC, having come to the aperture |\n",
       "| incident rays. Let there be such a ray RC falling upon the surface     |\n",
       "| CK. Make CO perpendicular to RC, and across the angle KCO adjust OK,   |\n",
       "| the required refraction of the ray RC. The demonstration of this is,   |\n",
       "| explaining ordinary refraction. For the refraction of the ray RC is    |\n",
       "| 29. Now as we have found CI the refraction of the ray RC, similarly    |\n",
       "| the ray _r_C is inclined equally with RC, the line C_d_ will           |\n",
       "| equally inclined, but coming from opposite sides, as here the rays RC, |\n",
       "| degrees 40 minutes. Now let there be some other ray RC, the refraction |\n",
       "| be described, cutting the ray RC at R; and let RV be the perpendicular |\n",
       "| this will be the required refraction of the ray RC. Which is           |\n",
       "| explained that CI is the refraction of the ray RC. Now since the angle |\n",
       "| RCO is a right angle, it is easy to see that the right-angled          |\n",
       "| triangles RCV, KCO, are similar. As then, CK is to KO, so also is RC   |\n",
       "| to CV. But KO is equal to N, and RC to CG: then as CK is to N so will  |\n",
       "| the angle RCG of 73 degrees 20 minutes, inclining to the same side as  |\n",
       "| will find that it makes exactly a straight line with RC, and that thus |\n",
       "| angle RCV 73 degrees 20 minutes, CV will be 28,330. But because CI is  |\n",
       "| the refraction of the ray RC, the proportion of CV to CD is 156,962 to |\n",
       "| tangent of the complement of the angle RCV, which is 73 degrees 20     |\n",
       "| minutes, is to the radius of the Tables. Whence it appears that RCIT   |\n",
       "| in other transparent bodies; that is to say, that if a ray RC in       |\n",
       "| RC.                                                                    |\n",
       "| ray RC, since IB is equal to CK, and IA equal to KO, and the angles A  |\n",
       "| plane AFHE, the incident ray RC; it is required to find its refraction |\n",
       "| I say that CI will be the required refraction of the ray RC. This will |\n",
       "| RC, as a portion of the wave of light, we can demonstrate that the     |\n",
       "| that is to say, that the ray RC is refracted as CI.                    |\n",
       "| which section there is also the ray RC, and let the semi-elliptic      |\n",
       "| refraction of the ray RC.                                              |\n",
       "| appear raised to S where the straight lines RC, _rc_, meet; which      |\n",
       "| should appear at S where the straight lines RC, _rc_, meet when        |\n",
       "| to be at S, in the perpendicular PD where the lines RC, _rc_, meet     |\n",
       "| RC, the refraction of which it is required to find.                    |\n",
       "| Let there be taken a plane passing through the ray RC and which is     |\n",
       "| straight line BCK; and having in the same plane through RC made CO     |\n",
       "| refraction of the ray RC, as is easy to deduce from that which has     |\n",
       "| the ray RC and through CK, is also given; from which it will be easy   |\n",
       "| RC.                                                                    |\n",
       "| refractions of any other ray which may be in the plane through RC and  |\n",
       "| ALBERT EINSTEIN REFERENCE ARCHIVE                                      |\n",
       "\n"
      ],
      "text/plain": [
       "   text                                                                  \n",
       "1  line RC, parallel and equal to AB, to be a portion of a wave of light,\n",
       "2  represents the partial wave coming from the point A, after the wave RC\n",
       "3  be the propagation of the wave RC which fell on AB, and would be the  \n",
       "4  transparent body; seeing that the wave RC, having come to the aperture\n",
       "5  incident rays. Let there be such a ray RC falling upon the surface    \n",
       "6  CK. Make CO perpendicular to RC, and across the angle KCO adjust OK,  \n",
       "7  the required refraction of the ray RC. The demonstration of this is,  \n",
       "8  explaining ordinary refraction. For the refraction of the ray RC is   \n",
       "9  29. Now as we have found CI the refraction of the ray RC, similarly   \n",
       "10 the ray _r_C is inclined equally with RC, the line C_d_ will          \n",
       "11 equally inclined, but coming from opposite sides, as here the rays RC,\n",
       "12 degrees 40 minutes. Now let there be some other ray RC, the refraction\n",
       "13 be described, cutting the ray RC at R; and let RV be the perpendicular\n",
       "14 this will be the required refraction of the ray RC. Which is          \n",
       "15 explained that CI is the refraction of the ray RC. Now since the angle\n",
       "16 RCO is a right angle, it is easy to see that the right-angled         \n",
       "17 triangles RCV, KCO, are similar. As then, CK is to KO, so also is RC  \n",
       "18 to CV. But KO is equal to N, and RC to CG: then as CK is to N so will \n",
       "19 the angle RCG of 73 degrees 20 minutes, inclining to the same side as \n",
       "20 will find that it makes exactly a straight line with RC, and that thus\n",
       "21 angle RCV 73 degrees 20 minutes, CV will be 28,330. But because CI is \n",
       "22 the refraction of the ray RC, the proportion of CV to CD is 156,962 to\n",
       "23 tangent of the complement of the angle RCV, which is 73 degrees 20    \n",
       "24 minutes, is to the radius of the Tables. Whence it appears that RCIT  \n",
       "25 in other transparent bodies; that is to say, that if a ray RC in      \n",
       "26 RC.                                                                   \n",
       "27 ray RC, since IB is equal to CK, and IA equal to KO, and the angles A \n",
       "28 plane AFHE, the incident ray RC; it is required to find its refraction\n",
       "29 I say that CI will be the required refraction of the ray RC. This will\n",
       "30 RC, as a portion of the wave of light, we can demonstrate that the    \n",
       "31 that is to say, that the ray RC is refracted as CI.                   \n",
       "32 which section there is also the ray RC, and let the semi-elliptic     \n",
       "33 refraction of the ray RC.                                             \n",
       "34 appear raised to S where the straight lines RC, _rc_, meet; which     \n",
       "35 should appear at S where the straight lines RC, _rc_, meet when       \n",
       "36 to be at S, in the perpendicular PD where the lines RC, _rc_, meet    \n",
       "37 RC, the refraction of which it is required to find.                   \n",
       "38 Let there be taken a plane passing through the ray RC and which is    \n",
       "39 straight line BCK; and having in the same plane through RC made CO    \n",
       "40 refraction of the ray RC, as is easy to deduce from that which has    \n",
       "41 the ray RC and through CK, is also given; from which it will be easy  \n",
       "42 RC.                                                                   \n",
       "43 refractions of any other ray which may be in the plane through RC and \n",
       "44 ALBERT EINSTEIN REFERENCE ARCHIVE                                     "
      ]
     },
     "metadata": {},
     "output_type": "display_data"
    }
   ],
   "source": [
    "physics %>% \n",
    "  filter(str_detect(text, \"RC\")) %>% \n",
    "  select(text)"
   ]
  },
  {
   "cell_type": "markdown",
   "metadata": {},
   "source": [
    "필요없는 단어 tibble 형식으로 저장"
   ]
  },
  {
   "cell_type": "code",
   "execution_count": 18,
   "metadata": {},
   "outputs": [],
   "source": [
    "mystopwords <- tibble(word = c(\"eq\", \"co\", \"rc\", \"ac\", \"ak\", \"bn\", \n",
    "                                   \"fig\", \"file\", \"cg\", \"cb\", \"cm\",\n",
    "                               \"ab\", \"_k\", \"_k_\", \"_x\"))"
   ]
  },
  {
   "cell_type": "markdown",
   "metadata": {},
   "source": [
    "anti_join으로 제거(anti_join은 Chapter2에 나옵니다.)"
   ]
  },
  {
   "cell_type": "code",
   "execution_count": 19,
   "metadata": {},
   "outputs": [],
   "source": [
    "physics_words <- anti_join(physics_words, mystopwords, \n",
    "                           by = \"word\")"
   ]
  },
  {
   "cell_type": "markdown",
   "metadata": {},
   "source": [
    "다시 시각화"
   ]
  },
  {
   "cell_type": "code",
   "execution_count": 22,
   "metadata": {},
   "outputs": [
    {
     "name": "stdout",
     "output_type": "stream",
     "text": [
      "package 'forcats' successfully unpacked and MD5 sums checked\n",
      "\n",
      "The downloaded binary packages are in\n",
      "\tC:\\Users\\hu612\\AppData\\Local\\Temp\\Rtmp4M8CHE\\downloaded_packages\n"
     ]
    }
   ],
   "source": [
    "install.packages(\"forcats\")"
   ]
  },
  {
   "cell_type": "code",
   "execution_count": 25,
   "metadata": {},
   "outputs": [],
   "source": [
    "library(forcats)\n",
    "plot_physics <- physics_words %>%         # plot_words 변수 활용\n",
    "  bind_tf_idf(word, author, n) %>%\n",
    "  # bind_tf_idf 함수 사용\n",
    "  # word = 텍스트 데이터 집합, author = 문서ID를 포함하는 열, n = 문서 용어 수를 포함하는 열)\n",
    "  \n",
    "  mutate(word = str_remove_all(word, \"_\")) %>%\n",
    "  # str_remove_all = 해당 패턴 모두 삭제\n",
    "  \n",
    "  group_by(author) %>%    # author 변수 기준으로 그룹화\n",
    "  slice_max(tf_idf, n = 15) %>%   # slice_max() = 가장 큰 n개의 행 선택\n",
    "  ungroup() %>%   # 그룹화 해제\n",
    "  mutate(word = fct_reorder(word, tf_idf)) %>%\n",
    "  # fct_reorder = factor화를 통해 x축 컬럼을 sort\n",
    "  \n",
    "  mutate(author = factor(author, levels = c(\"Galilei, Galileo\",\n",
    "                                            \"Huygens, Christiaan\",\n",
    "                                            \"Tesla, Nikola\",\n",
    "                                            \"Einstein, Albert\")))"
   ]
  },
  {
   "cell_type": "code",
   "execution_count": 24,
   "metadata": {},
   "outputs": [
    {
     "data": {
      "image/png": "[encoded data removed]",
      "text/plain": [
       "plot without title"
      ]
     },
     "metadata": {},
     "output_type": "display_data"
    }
   ],
   "source": [
    "ggplot(plot_physics, aes(tf_idf, word, fill = author)) +\n",
    "  geom_col(show.legend = FALSE) +\n",
    "  facet_wrap(~author, ncol = 2, scales = \"free\") +\n",
    "  labs(x = \"tf-idf\", y = NULL)"
   ]
  },
  {
   "cell_type": "markdown",
   "metadata": {},
   "source": [
    "- 의미없는 단어들을 제거하여 더 의미 있는 시각화를 하였습니다."
   ]
  },
  {
   "cell_type": "markdown",
   "metadata": {},
   "source": [
    "### [마무리]\n",
    "- tf와 idf를 사용하면 문서 모음 내에서 하나의 문서에 고유한 단어를 찾을 수 있습니다.\n",
    "- 문서 모음 또는 말뭉치 내에서 서로 다른 단어가 얼마나 중요한지 확인이 가능합니다.\n",
    "\n",
    "### 감사합니다.\n",
    "\n",
    "### [Reference]\n",
    "[1] https://www.tidytextmining.com/tidytext.html<br>\n",
    "[2] https://hoon427.tistory.com/83<br>\n",
    "[3] https://bookdown.org/ahn_media/bookdown-demo/browse.html<br>"
   ]
  }
 ],
 "metadata": {
  "kernelspec": {
   "display_name": "R",
   "language": "R",
   "name": "ir"
  },
  "language_info": {
   "codemirror_mode": "r",
   "file_extension": ".r",
   "mimetype": "text/x-r-source",
   "name": "R",
   "pygments_lexer": "r",
   "version": "3.6.1"
  }
 },
 "nbformat": 4,
 "nbformat_minor": 4
}
